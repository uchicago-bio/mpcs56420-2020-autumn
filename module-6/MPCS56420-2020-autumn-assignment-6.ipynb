{
 "cells": [
  {
   "cell_type": "markdown",
   "metadata": {},
   "source": [
    "# Question 1. Structure Alignment Analysis\n",
    "One of the most common tasks for performing structure analaysis is to performing structure alignments to identify the similarity between protein. You will write a program to perform both global and local structure alignments.\n",
    "\n",
    "There are many approaches to performing structure alignements, but you will consult [this approach to structure alignment](http://boscoh.com/protein/rmsd-root-mean-square-deviation.html) and RMSD for the technical details on performing the alignments.\n",
    "\n",
    "Despite the complexitity of the underlying approach, you will find it boils down to a couple of matrix command in numpy. As is often the case in bioinformatics, you will be building on what others have contributed to the field. Understanding other people's code is an important part of this. There are many complex bioinformatics packages in the wild, but often they require a substantial amount of tinkering to work properly.\n",
    "\n",
    "You can use and modify [the code from the article](https://github.com/boscoh/pdbremix/blob/master/pdbremix/rmsd.py) to help parse PDB files and perform the alignments. We are only interested in the core PDB parsing and RMSD calculations in this code. Alternatively, you may use PyMOL functions via the Python API or PyRosetta functions (see below).\n",
    "\n",
    "For each question below, you only need to consider the alpha carbon coordinates to represent the center of mass of the amino acid. That is, use only one Ca atom to represent each amino acid when doing the alignment.\n",
    "\n",
    "Your program should take input as follows:\n",
    "\n",
    "```\n",
    "align.py -reference file1.pdb -mobile file2.pdb [-local window] -out outfile.pdb\n",
    "```\n",
    "\n",
    "Each solution should provide the following imformation and print to the console:\n",
    "* RMSD calculation of the alignment\n",
    "* The rotation matrix that gives the best RMSD\n",
    "* A list of aligned residues in the following format (A1->B1,A2->B2, etc.)\n",
    "\n",
    "The `outfile.pdb` should be a new file (in PDB format) of the aligned structure. Note that in an alignment, one structure is kept as reference and one is mobile. The file should represent the mobile structure. _You should apply the rotation matrix to the entire PDB, not just the alpha carbon atoms._"
   ]
  },
  {
   "cell_type": "code",
   "execution_count": null,
   "metadata": {},
   "outputs": [],
   "source": []
  },
  {
   "cell_type": "markdown",
   "metadata": {},
   "source": [
    "# Question 2. Global RMSD\n",
    "Find the global RMSD betwen the follwoing myoglobin structures: `1mbn`, `1np4`, `3qm9`, `4nos`. Include the output from your program below.\n"
   ]
  },
  {
   "cell_type": "code",
   "execution_count": null,
   "metadata": {},
   "outputs": [],
   "source": []
  },
  {
   "cell_type": "markdown",
   "metadata": {},
   "source": [
    "# Question 3. Local RMSD \n",
    "Find the best local RMSD alignment between the follwoing myoglobin structures (`1mbn`, `1np4`, `3qm9`, `4nos`) by comparing segments of length 10. You should apply the rotation matrix to the entire protein."
   ]
  },
  {
   "cell_type": "markdown",
   "metadata": {},
   "source": [
    "# Question 4. Functional RMSD"
   ]
  },
  {
   "cell_type": "markdown",
   "metadata": {},
   "source": [
    "Find the best structural alignment between residues in the heme binding pockets. Use both global and local approaches to find the best alignment.\n",
    "\n",
    "Use the [HEM binding pocket from 1mbn](structures/1mbn.HEM_A_155.pdb) as the query binding pocket. Compare the query against each of the following binding pockets.\n",
    "\n",
    "* HEM binding pocket from [1np4](structures/1np4.HEM_A_185.pdb)\n",
    "* HEM binding pocket from [3qm9](structures/3qm9.HEM_A_201.pdb)\n",
    "* HEM binding pocket from [4nos](structures/4nos.HEM_A_510.pdb)\n",
    "\n",
    "How does the similarity between the heme binding pockets compare to the overall sequence and structural similarity? Report the sequence similarity in addition to the structural similarity."
   ]
  },
  {
   "cell_type": "markdown",
   "metadata": {},
   "source": [
    "# Question 6. HPC Speedup\n"
   ]
  },
  {
   "cell_type": "markdown",
   "metadata": {},
   "source": [
    "Speedup is a metric used to assess the relative performance improvement gained by executing one task versus another.  In our case, we are comparing serial execution (a single process) of searching a single sequence against a database versus a task parallelism version. \n",
    "\n",
    "Speedup is defined as \n",
    "$$ S \\equiv \\frac{T_{\\text{Old}}}{T_{\\text{New}}} $$ \n",
    "\n",
    "where $S$ is speedup, $T_{\\text{Old}}$ is the time taken to execute the script without improvement (serial), and $T_{\\text{New}}$ is the time taken to execute the script with the improvement (parallel).\n"
   ]
  },
  {
   "cell_type": "markdown",
   "metadata": {},
   "source": [
    "\n",
    "What is the speedup of the converting your sequence alignment program to run as an array job on 10 nodes compared to a serial run on a single node?"
   ]
  },
  {
   "cell_type": "code",
   "execution_count": null,
   "metadata": {},
   "outputs": [],
   "source": []
  },
  {
   "cell_type": "markdown",
   "metadata": {},
   "source": [
    "# Question 7. Multicore Processing\n",
    "Python's [mutliprocessing](https://docs.python.org/2/library/multiprocessing.html) packages is a straightforward way to take advantage of multicore processors. Applications in a multiprocessing system are broken to smaller routines that run independently. The operating system allocates these threads to the processors improving performance of the system. \n",
    "\n",
    "It may be suprising to learn, but maximizing the number of cores does not necessarily get the best performance. Adapt you sequence alignment code to use `multiprocessing` to create a new version of your program that takes advantage of multicore machines. \n",
    "\n",
    "Perform a benchmarking experiments to determine if your program benefits from a multicore implementation. Experiment to find what is the best combination of cores and report them below. Include your code and submission scripts in your classroom repository."
   ]
  },
  {
   "cell_type": "code",
   "execution_count": null,
   "metadata": {},
   "outputs": [],
   "source": []
  },
  {
   "cell_type": "markdown",
   "metadata": {},
   "source": [
    "Calculate the overall speedup of running on a single node/single core configuration versus your optimized code. What is the speedup?"
   ]
  },
  {
   "cell_type": "code",
   "execution_count": null,
   "metadata": {},
   "outputs": [],
   "source": []
  },
  {
   "cell_type": "markdown",
   "metadata": {},
   "source": [
    "Given all your analysis, what is *the optimal* strategy for your implementation assuming you had to run against a very large database? Is it parallel tasks jobs, multi-core processing, or a hybrid approach."
   ]
  },
  {
   "cell_type": "code",
   "execution_count": null,
   "metadata": {},
   "outputs": [],
   "source": []
  },
  {
   "cell_type": "markdown",
   "metadata": {
    "collapsed": true
   },
   "source": [
    "# Question 8. Annotation Strategy\n",
    "In selected protein databases, some entries are (ironically) annonated as _proteins of unknown function_.  Given a protein sequence of unknown function, describe (in a few sentences) a general strategy for predicting its function.  Provide specifics (eg. methods, databases) about how you would you begin your strategy and what key decisions you might make along the way."
   ]
  },
  {
   "cell_type": "code",
   "execution_count": null,
   "metadata": {},
   "outputs": [],
   "source": []
  },
  {
   "cell_type": "markdown",
   "metadata": {},
   "source": [
    "Apply your strategy to hypothetical protein ACU69335.1 from _Catenulispora acidiphila_.  What is your functional hypothesis?  Show any information to support your prediction."
   ]
  },
  {
   "cell_type": "code",
   "execution_count": null,
   "metadata": {},
   "outputs": [],
   "source": []
  },
  {
   "cell_type": "markdown",
   "metadata": {},
   "source": [
    "# Question 9. Play Fold.it!"
   ]
  },
  {
   "cell_type": "markdown",
   "metadata": {},
   "source": [
    "Complete the introductory levels up to 4-5. Select a \"Science Puzzle\" to work on. Take a screenshot of your best solution and add it to this notebook."
   ]
  },
  {
   "cell_type": "code",
   "execution_count": null,
   "metadata": {},
   "outputs": [],
   "source": [
    "[insert image here]"
   ]
  },
  {
   "cell_type": "markdown",
   "metadata": {},
   "source": [
    "# Question 10. PyRosetta"
   ]
  },
  {
   "cell_type": "markdown",
   "metadata": {},
   "source": [
    "Complete the PyRosetta notebook tutorials to analyze protein structures and compute protein ligand binding energies. The tutorials can be run using Google Colaboratory notebooks or locally."
   ]
  },
  {
   "cell_type": "code",
   "execution_count": null,
   "metadata": {},
   "outputs": [],
   "source": []
  },
  {
   "cell_type": "code",
   "execution_count": null,
   "metadata": {},
   "outputs": [],
   "source": []
  },
  {
   "cell_type": "code",
   "execution_count": null,
   "metadata": {},
   "outputs": [],
   "source": []
  }
 ],
 "metadata": {
  "anaconda-cloud": {},
  "kernelspec": {
   "display_name": "Python 3",
   "language": "python",
   "name": "python3"
  },
  "language_info": {
   "codemirror_mode": {
    "name": "ipython",
    "version": 3
   },
   "file_extension": ".py",
   "mimetype": "text/x-python",
   "name": "python",
   "nbconvert_exporter": "python",
   "pygments_lexer": "ipython3",
   "version": "3.7.5"
  }
 },
 "nbformat": 4,
 "nbformat_minor": 2
}
