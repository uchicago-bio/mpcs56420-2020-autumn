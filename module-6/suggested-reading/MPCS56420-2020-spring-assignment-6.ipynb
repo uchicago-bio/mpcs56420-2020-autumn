{
 "cells": [
  {
   "cell_type": "markdown",
   "metadata": {},
   "source": [
    "# 1."
   ]
  },
  {
   "cell_type": "markdown",
   "metadata": {},
   "source": [
    "Evaluate the following questions as `true` or `false` statements.\n",
    "* Two proteins with the same function are evolutionarily related.\n",
    "* Two proteins that are evolutionarily related will share a common ancestor.\n",
    "* Two proteins that share a common ancestor will have the same function."
   ]
  },
  {
   "cell_type": "code",
   "execution_count": null,
   "metadata": {},
   "outputs": [],
   "source": []
  },
  {
   "cell_type": "markdown",
   "metadata": {},
   "source": [
    "# 2. "
   ]
  },
  {
   "cell_type": "markdown",
   "metadata": {},
   "source": [
    "Does the fact that all proteins have alpha-helix indicates that they are all evolutionary related? Explain.\n"
   ]
  },
  {
   "cell_type": "code",
   "execution_count": null,
   "metadata": {},
   "outputs": [],
   "source": []
  },
  {
   "cell_type": "markdown",
   "metadata": {},
   "source": [
    "Are all proteins that bind the same ligand evolutationary related? Explain."
   ]
  },
  {
   "cell_type": "code",
   "execution_count": null,
   "metadata": {},
   "outputs": [],
   "source": []
  },
  {
   "cell_type": "markdown",
   "metadata": {},
   "source": [
    "\n",
    "# 3."
   ]
  },
  {
   "cell_type": "markdown",
   "metadata": {},
   "source": [
    "Aphrodisin and odorant-binding protein are both examples of lipocalins. Obtain the accession numbers for rodent forms of these proteins and then perform a pairwise sequence alignment. Record the percent amino acid identity, the percent similarities, the expect values, and bit scores. \n",
    "\n",
    "Would you consider these proteins evolutionarily related? Explain."
   ]
  },
  {
   "cell_type": "code",
   "execution_count": null,
   "metadata": {},
   "outputs": [],
   "source": []
  },
  {
   "cell_type": "markdown",
   "metadata": {},
   "source": [
    "# 4."
   ]
  },
  {
   "cell_type": "markdown",
   "metadata": {},
   "source": [
    "Explain the each of the following NCBI entries.  Note the relationships between them.\n",
    "\n",
    "* Gene ID: 911825\n",
    "* NC_002549\n",
    "* NC_002549.1\n",
    "* NP_066245"
   ]
  },
  {
   "cell_type": "markdown",
   "metadata": {},
   "source": [
    "# 5."
   ]
  },
  {
   "cell_type": "markdown",
   "metadata": {},
   "source": [
    "You perform a BLAST search and one of the results you are interested in has an E-value of 1x10$^{-5}$.\n",
    "\n",
    "* What does the E-value measure?\n",
    "* Would you evaluate this as a significant hit?\n",
    "* How would you expect the E-value to change if we doubled the size of our database?"
   ]
  },
  {
   "cell_type": "markdown",
   "metadata": {},
   "source": [
    "# 6 ."
   ]
  },
  {
   "cell_type": "markdown",
   "metadata": {},
   "source": [
    "Speedup is a metric used to assess the relative performance improvement gained by executing one task versus another.  In our case, we are comparing serial execution (a single process) of searching a single sequence against a database versus a task parallelism version. \n",
    "\n",
    "Speedup is defined as \n",
    "$$ S \\equiv \\frac{T_{\\text{Old}}}{T_{\\text{New}}} $$ \n",
    "\n",
    "where $S$ is speedup, $T_{\\text{Old}}$ is the time taken to execute the script without improvement (serial), and $T_{\\text{New}}$ is the time taken to execute the script with the improvement (parallel).\n"
   ]
  },
  {
   "cell_type": "markdown",
   "metadata": {},
   "source": [
    "\n",
    "What is the speedup of the converting your sequence alignment program to run as an array job compared to a serial run on a single node using a single thread?"
   ]
  },
  {
   "cell_type": "code",
   "execution_count": null,
   "metadata": {},
   "outputs": [],
   "source": []
  },
  {
   "cell_type": "markdown",
   "metadata": {},
   "source": [
    "Python's [mutliprocessing](https://docs.python.org/2/library/multiprocessing.html) packages is a straightforward way to take advantage of multicore processors. Applications in a multiprocessing system are broken to smaller routines that run independently. The operating system allocates these threads to the processors improving performance of the system. \n",
    "\n",
    "Update your sequence alignment code one last time to use `multiprocessing` to allow your program to use the multicore machines at the RCC.\n",
    "\n",
    "It may be suprising to learn, but maximizing the number of cores does not necessarily get the best performance. Experiment to find what is the best combination of cores and report them below. Include your code and submission scripts in your classroom repository."
   ]
  },
  {
   "cell_type": "code",
   "execution_count": null,
   "metadata": {},
   "outputs": [],
   "source": []
  },
  {
   "cell_type": "markdown",
   "metadata": {},
   "source": [
    "Calculate the overall speedup of running on a single node/single core configuration versus your optimized code. What is the speedup?"
   ]
  },
  {
   "cell_type": "code",
   "execution_count": null,
   "metadata": {},
   "outputs": [],
   "source": []
  },
  {
   "cell_type": "markdown",
   "metadata": {},
   "source": [
    "# 7."
   ]
  },
  {
   "cell_type": "markdown",
   "metadata": {},
   "source": [
    "Create a comic to explain embarrassingly parallel computing."
   ]
  },
  {
   "cell_type": "code",
   "execution_count": null,
   "metadata": {},
   "outputs": [],
   "source": []
  },
  {
   "cell_type": "markdown",
   "metadata": {
    "collapsed": true
   },
   "source": [
    "# 8."
   ]
  },
  {
   "cell_type": "markdown",
   "metadata": {},
   "source": [
    "In selected protein databases, some entries are (ironically) annonated as _proteins of unknown function_.  Given a protein sequence of unknown function, describe (in a few sentences) a general strategy for predicting its function.  Provide specifics (eg. methods, databases) about how you would you begin your strategy and what key decisions you might make along the way.\n",
    "\n",
    "\n",
    "```\n",
    "\n",
    "```\n",
    "\n",
    "Apply your strategy to hypothetical protein ACU69335.1 from _Catenulispora acidiphila_.  What is your functional hypothesis?  Show any information to support your prediction."
   ]
  },
  {
   "cell_type": "code",
   "execution_count": null,
   "metadata": {},
   "outputs": [],
   "source": []
  },
  {
   "cell_type": "markdown",
   "metadata": {},
   "source": [
    "# 9. "
   ]
  },
  {
   "cell_type": "markdown",
   "metadata": {},
   "source": [
    "Play fold.it! Complete the introductory levels up to 4-5. Select a \"Science Puzzle\" to work on. Take a screenshot of your best solution and add it to this notebook."
   ]
  },
  {
   "cell_type": "code",
   "execution_count": null,
   "metadata": {},
   "outputs": [],
   "source": [
    "[insert image here]"
   ]
  },
  {
   "cell_type": "markdown",
   "metadata": {},
   "source": [
    "# 10. "
   ]
  },
  {
   "cell_type": "markdown",
   "metadata": {},
   "source": [
    "Complete the Google Colab notebooks using PyRosetta to analyze protein structures and compute protein ligand binding energies."
   ]
  },
  {
   "cell_type": "code",
   "execution_count": null,
   "metadata": {},
   "outputs": [],
   "source": []
  }
 ],
 "metadata": {
  "anaconda-cloud": {},
  "kernelspec": {
   "display_name": "Python 3",
   "language": "python",
   "name": "python3"
  },
  "language_info": {
   "codemirror_mode": {
    "name": "ipython",
    "version": 3
   },
   "file_extension": ".py",
   "mimetype": "text/x-python",
   "name": "python",
   "nbconvert_exporter": "python",
   "pygments_lexer": "ipython3",
   "version": "3.7.5"
  }
 },
 "nbformat": 4,
 "nbformat_minor": 2
}
