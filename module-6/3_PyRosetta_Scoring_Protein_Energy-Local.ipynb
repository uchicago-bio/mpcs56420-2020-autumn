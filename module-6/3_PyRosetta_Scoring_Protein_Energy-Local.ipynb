{
 "cells": [
  {
   "cell_type": "markdown",
   "metadata": {
    "colab_type": "text",
    "id": "9wsGEmsF5dLl",
    "nbgrader": {
     "grade": false,
     "grade_id": "cell-eeaeae18e9d996eb",
     "locked": true,
     "schema_version": 1,
     "solution": false
    }
   },
   "source": [
    "# Score Function Basics\n",
    "\n",
    "---\n"
   ]
  },
  {
   "cell_type": "code",
   "execution_count": 1,
   "metadata": {
    "colab": {
     "base_uri": "https://localhost:8080/",
     "height": 360
    },
    "colab_type": "code",
    "id": "IMXucq6b5dLm",
    "outputId": "7586921a-30b5-4315-9b37-5313fc79654a"
   },
   "outputs": [
    {
     "name": "stdout",
     "output_type": "stream",
     "text": [
      "PyRosetta-4 2020 [Rosetta PyRosetta4.conda.mac.python37.Release 2020.02+release.22ef835b4a2647af94fcd6421a85720f07eddf12 2020-01-05T17:31:56] retrieved from: http://www.pyrosetta.org\n",
      "(C) Copyright Rosetta Commons Member Institutions. Created in JHU by Sergey Lyskov and PyRosetta Team.\n",
      "\u001b[0mcore.init: {0} \u001b[0mChecking for fconfig files in pwd and ./rosetta/flags\n",
      "\u001b[0mcore.init: {0} \u001b[0mRosetta version: PyRosetta4.conda.mac.python37.Release r242 2020.02+release.22ef835b4a2 22ef835b4a2647af94fcd6421a85720f07eddf12 http://www.pyrosetta.org 2020-01-05T17:31:56\n",
      "\u001b[0mcore.init: {0} \u001b[0mcommand: PyRosetta -ex1 -ex2aro -database /Users/tabinkowski/anaconda3/lib/python3.7/site-packages/pyrosetta/database\n",
      "\u001b[0mbasic.random.init_random_generator: {0} \u001b[0m'RNG device' seed mode, using '/dev/urandom', seed=1264998659 seed_offset=0 real_seed=1264998659 thread_index=0\n",
      "\u001b[0mbasic.random.init_random_generator: {0} \u001b[0mRandomGenerator:init: Normal mode, seed=1264998659 RG_type=mt19937\n"
     ]
    }
   ],
   "source": [
    "import pyrosetta\n",
    "pyrosetta.init()"
   ]
  },
  {
   "cell_type": "markdown",
   "metadata": {
    "colab_type": "text",
    "id": "4wXaNpAayR6N"
   },
   "source": [
    "Change the current directory in Colaboratory."
   ]
  },
  {
   "cell_type": "code",
   "execution_count": 3,
   "metadata": {
    "colab": {
     "base_uri": "https://localhost:8080/",
     "height": 1000
    },
    "colab_type": "code",
    "id": "hvk6fw5Wo7k9",
    "outputId": "01cda090-a203-4b35-ac9b-cb6713eb4ea8"
   },
   "outputs": [
    {
     "name": "stdout",
     "output_type": "stream",
     "text": [
      "/Users/tabinkowski/Documents/Development/GitHub/uchicago-bio/mpcs56420-2020-autumn/module-6\n",
      "1_PyRosetta_Google_Drive_Setup.ipynb\n",
      "2_PyRosetta_Pose.ipynb\n",
      "2_PyRosetta_Pose_Local.ipynb\n",
      "3_PyRosetta_Scoring_Protein_Energy-Local.ipynb\n",
      "3_PyRosetta_Scoring_Protein_Energy.ipynb\n",
      "MPCS56420-2020-autumn-assignment-6.ipynb\n",
      "\u001b[34minputs\u001b[m\u001b[m\n",
      "\u001b[34msuggested-reading\u001b[m\u001b[m\n"
     ]
    }
   ],
   "source": [
    "!pwd\n",
    "#%cd \"\"\n",
    "!ls"
   ]
  },
  {
   "cell_type": "markdown",
   "metadata": {
    "colab_type": "text",
    "id": "Cp6mIkPe5dLr"
   },
   "source": [
    "In this module, we will explore the PyRosetta score function interface. You will learn to inspect energies of a biomolecule at the whole protein, per-residue, and per-atom level. Finally, you will gain practice applying the energies to answering biological questions involving proteins. \n",
    "\n",
    "For these exercises, we will use the protein Ras (PDB 6q21). Note that there are four chains in this model. Make sure you have the PDB file \"6Q21_A.pdb\" in your current directory.\n",
    "\n",
    "For more information about RAS proteins, see [PDB Molecule of the Week](https://pdb101.rcsb.org/motm/148)."
   ]
  },
  {
   "cell_type": "code",
   "execution_count": 4,
   "metadata": {
    "colab": {
     "base_uri": "https://localhost:8080/",
     "height": 34
    },
    "colab_type": "code",
    "id": "KNQjosII5dLr",
    "nbgrader": {
     "grade": true,
     "grade_id": "cell-be26a363af7b009c",
     "locked": false,
     "points": 0,
     "schema_version": 1,
     "solution": true
    },
    "outputId": "14687994-7635-47e0-9986-f8db5a87617f"
   },
   "outputs": [
    {
     "name": "stdout",
     "output_type": "stream",
     "text": [
      "\u001b[0mcore.chemical.GlobalResidueTypeSet: {0} \u001b[0mFinished initializing fa_standard residue type set.  Created 980 residue types\n",
      "\u001b[0mcore.chemical.GlobalResidueTypeSet: {0} \u001b[0mTotal time to initialize 1.19787 seconds.\n",
      "\u001b[0mcore.import_pose.import_pose: {0} \u001b[0mFile 'inputs/6Q21_A.pdb' automatically determined to be of type PDB\n"
     ]
    }
   ],
   "source": [
    "ras = pyrosetta.pose_from_pdb(\"inputs/6Q21_A.pdb\")"
   ]
  },
  {
   "cell_type": "markdown",
   "metadata": {
    "colab_type": "text",
    "id": "zN7HPjML5dLv",
    "nbgrader": {
     "grade": false,
     "grade_id": "cell-ed57c5745ba69a27",
     "locked": true,
     "schema_version": 1,
     "solution": false
    }
   },
   "source": [
    "To score a protein, you will begin by defining a score function using the `get_score_function(is_fullatom: bool)` method in the `pyrosetta.teaching` namespace. Specifying `True` will return the default `ref2015` all-atom energy function, while `False` will specify the default centroid score function.\n"
   ]
  },
  {
   "cell_type": "code",
   "execution_count": 5,
   "metadata": {
    "colab": {
     "base_uri": "https://localhost:8080/",
     "height": 34
    },
    "colab_type": "code",
    "id": "bVZe8bma5dLv",
    "nbgrader": {
     "grade": true,
     "grade_id": "cell-a8401defb7b4a814",
     "locked": false,
     "points": 0,
     "schema_version": 1,
     "solution": true
    },
    "outputId": "b74af196-7035-4f9f-ac09-1be84d974e13"
   },
   "outputs": [
    {
     "name": "stdout",
     "output_type": "stream",
     "text": [
      "\u001b[0mcore.scoring.ScoreFunctionFactory: {0} \u001b[0mSCOREFUNCTION: \u001b[32mref2015\u001b[0m\n",
      "\u001b[0mcore.scoring.etable: {0} \u001b[0mStarting energy table calculation\n",
      "\u001b[0mcore.scoring.etable: {0} \u001b[0msmooth_etable: changing atr/rep split to bottom of energy well\n",
      "\u001b[0mcore.scoring.etable: {0} \u001b[0msmooth_etable: spline smoothing lj etables (maxdis = 6)\n",
      "\u001b[0mcore.scoring.etable: {0} \u001b[0msmooth_etable: spline smoothing solvation etables (max_dis = 6)\n",
      "\u001b[0mcore.scoring.etable: {0} \u001b[0mFinished calculating energy tables.\n",
      "\u001b[0mbasic.io.database: {0} \u001b[0mDatabase file opened: scoring/score_functions/hbonds/ref2015_params/HBPoly1D.csv\n",
      "\u001b[0mbasic.io.database: {0} \u001b[0mDatabase file opened: scoring/score_functions/hbonds/ref2015_params/HBFadeIntervals.csv\n",
      "\u001b[0mbasic.io.database: {0} \u001b[0mDatabase file opened: scoring/score_functions/hbonds/ref2015_params/HBEval.csv\n",
      "\u001b[0mbasic.io.database: {0} \u001b[0mDatabase file opened: scoring/score_functions/hbonds/ref2015_params/DonStrength.csv\n",
      "\u001b[0mbasic.io.database: {0} \u001b[0mDatabase file opened: scoring/score_functions/hbonds/ref2015_params/AccStrength.csv\n",
      "\u001b[0mbasic.io.database: {0} \u001b[0mDatabase file opened: scoring/score_functions/rama/fd/all.ramaProb\n",
      "\u001b[0mbasic.io.database: {0} \u001b[0mDatabase file opened: scoring/score_functions/rama/fd/prepro.ramaProb\n",
      "\u001b[0mbasic.io.database: {0} \u001b[0mDatabase file opened: scoring/score_functions/omega/omega_ppdep.all.txt\n",
      "\u001b[0mbasic.io.database: {0} \u001b[0mDatabase file opened: scoring/score_functions/omega/omega_ppdep.gly.txt\n",
      "\u001b[0mbasic.io.database: {0} \u001b[0mDatabase file opened: scoring/score_functions/omega/omega_ppdep.pro.txt\n",
      "\u001b[0mbasic.io.database: {0} \u001b[0mDatabase file opened: scoring/score_functions/omega/omega_ppdep.valile.txt\n",
      "\u001b[0mbasic.io.database: {0} \u001b[0mDatabase file opened: scoring/score_functions/P_AA_pp/P_AA\n",
      "\u001b[0mbasic.io.database: {0} \u001b[0mDatabase file opened: scoring/score_functions/P_AA_pp/P_AA_n\n",
      "\u001b[0mcore.scoring.P_AA: {0} \u001b[0mshapovalov_lib::shap_p_aa_pp_smooth_level of 1( aka low_smooth ) got activated.\n",
      "\u001b[0mbasic.io.database: {0} \u001b[0mDatabase file opened: scoring/score_functions/P_AA_pp/shapovalov/10deg/kappa131/a20.prop\n"
     ]
    }
   ],
   "source": [
    "# Create a PyRosetta score function using:\n",
    "from pyrosetta.teaching import *\n",
    "sfxn = get_score_function(True)"
   ]
  },
  {
   "cell_type": "markdown",
   "metadata": {
    "colab_type": "text",
    "id": "oWG-NN5r5dLy",
    "nbgrader": {
     "grade": false,
     "grade_id": "cell-67b6769efaa385af",
     "locked": true,
     "schema_version": 1,
     "solution": false
    }
   },
   "source": [
    "You can see the terms, weights, and energy method options by printing the score function:\n"
   ]
  },
  {
   "cell_type": "code",
   "execution_count": 6,
   "metadata": {
    "colab": {
     "base_uri": "https://localhost:8080/",
     "height": 1000
    },
    "colab_type": "code",
    "id": "KO2RdxpP5dLy",
    "nbgrader": {
     "grade": true,
     "grade_id": "cell-d9875a1b051c6971",
     "locked": false,
     "points": 0,
     "schema_version": 1,
     "solution": true
    },
    "outputId": "26844c5f-d898-4cc1-86b1-f89d0a96c82d"
   },
   "outputs": [
    {
     "name": "stdout",
     "output_type": "stream",
     "text": [
      "ScoreFunction::show():\n",
      "weights: (fa_atr 1) (fa_rep 0.55) (fa_sol 1) (fa_intra_rep 0.005) (fa_intra_sol_xover4 1) (lk_ball_wtd 1) (fa_elec 1) (pro_close 1.25) (hbond_sr_bb 1) (hbond_lr_bb 1) (hbond_bb_sc 1) (hbond_sc 1) (dslf_fa13 1.25) (omega 0.4) (fa_dun 0.7) (p_aa_pp 0.6) (yhh_planarity 0.625) (ref 1) (rama_prepro 0.45)\n",
      "energy_method_options: EnergyMethodOptions::show: aa_composition_setup_files: \n",
      "EnergyMethodOptions::show: mhc_epitope_setup_files: \n",
      "EnergyMethodOptions::show: netcharge_setup_files: \n",
      "EnergyMethodOptions::show: aspartimide_penalty_value: 25\n",
      "EnergyMethodOptions::show: etable_type: FA_STANDARD_DEFAULT\n",
      "analytic_etable_evaluation: 1\n",
      "EnergyMethodOptions::show: method_weights: ref 1.32468 3.25479 -2.14574 -2.72453 1.21829 0.79816 -0.30065 2.30374 -0.71458 1.66147 1.65735 -1.34026 -1.64321 -1.45095 -0.09474 -0.28969 1.15175 2.64269 2.26099 0.58223\n",
      "EnergyMethodOptions::show: method_weights: free_res\n",
      "EnergyMethodOptions::show: unfolded_energies_type: UNFOLDED_SCORE12\n",
      "EnergyMethodOptions::show: split_unfolded_label_type: SPLIT_UNFOLDED_MM\n",
      "EnergyMethodOptions::show: split_unfolded_value_type: SPLIT_UNFOLDED_BOLTZ\n",
      "EnergyMethodOptions::show: atom_vdw_atom_type_set_name: centroid\n",
      "EnergyMethodOptions::show: covalent_labeling_input: \n",
      "EnergyMethodOptions::show: covalent_labeling_fa_input: \n",
      "EnergyMethodOptions::show: exclude_protein_protein_fa_elec: false\n",
      "EnergyMethodOptions::show: exclude_RNA_RNA_fa_elec: false\n",
      "EnergyMethodOptions::show: exclude_RNA_protein_fa_elec: false\n",
      "EnergyMethodOptions::show: exclude_monomer_fa_elec: false\n",
      "EnergyMethodOptions::show: elec_max_dis: 5.5\n",
      "EnergyMethodOptions::show: elec_min_dis: 1.6\n",
      "EnergyMethodOptions::show: elec_die: 10\n",
      "EnergyMethodOptions::show: elec_no_dis_dep_die: false\n",
      "EnergyMethodOptions::show: elec_sigmoidal_die: true\n",
      "EnergyMethodOptions::show: elec_sigmoidal_D: 80\n",
      "EnergyMethodOptions::show: elec_sigmoidal_D0: 6\n",
      "EnergyMethodOptions::show: elec_sigmoidal_S: 0.4\n",
      "EnergyMethodOptions::show: smooth_fa_elec: true\n",
      "EnergyMethodOptions::show: grpelec_fade_type: false\n",
      "EnergyMethodOptions::show: grpelec_fade_param1: 1\n",
      "EnergyMethodOptions::show: grpelec_fade_param2: 1\n",
      "EnergyMethodOptions::show: grpelec_fade_hbond: 0\n",
      "EnergyMethodOptions::show: grp_cpfxn: 1\n",
      "EnergyMethodOptions::show: elec_group_file: /scoring/score_functions/elec_group_def.dat\n",
      "EnergyMethodOptions::show: grpelec_context_dependent: 0\n",
      "EnergyMethodOptions::show: use_polarization: true\n",
      "EnergyMethodOptions::show: use_gen_kirkwood: true\n",
      "EnergyMethodOptions::show: protein_dielectric: 1\n",
      "EnergyMethodOptions::show: water_dielectric: 78.3\n",
      "EnergyMethodOptions::show: exclude_DNA_DNA: true\n",
      "EnergyMethodOptions::show: exclude_intra_res_protein: false\n",
      "EnergyMethodOptions::show: count_pair_hybrid: false\n",
      "EnergyMethodOptions::show: count_pair_full: false\n",
      "EnergyMethodOptions::show: put_intra_into_total: false\n",
      "EnergyMethodOptions::show: geom_sol_interres_path_distance_cutoff: false\n",
      "EnergyMethodOptions::show: geom_sol_intrares_path_distance_cutoff: true\n",
      "EnergyMethodOptions::show: eval_intrares_elec_ST_only: false\n",
      "EnergyMethodOptions::show: envsmooth_zero_negatives: false\n",
      "EnergyMethodOptions::show: cst_max_seq_sep: 18446744073709551615\n",
      "EnergyMethodOptions::show: pb_bound_tag: bound\n",
      "EnergyMethodOptions::show: pb_unbound_tag: unbound\n",
      "EnergyMethodOptions::show: arg_cation_pi_his_can_be_pi: 1\n",
      "EnergyMethodOptions::show: ordered_wat_penalty: 1.221\n",
      "EnergyMethodOptions::show: ordered_pt_wat_penalty: 2.709\n",
      "EnergyMethodOptions::show: nmer_ref_seq_length_: 9\n",
      "EnergyMethodOptions::show: nmer_svm_term_length_: 3\n",
      "EnergyMethodOptions::show: nmer_svm_pssm_feat_: 1\n",
      "EnergyMethodOptions::show: nmer_svm_scorecut_defined_: 0\n",
      "EnergyMethodOptions::show: nmer_svm_scorecut_: 0\n",
      "EnergyMethodOptions::show: nmer_svm_avg_rank_as_energy_: 0\n",
      "EnergyMethodOptions::show: nmer_svm_aa_matrix_defined_: 0\n",
      "EnergyMethodOptions::show: nmer_svm_aa_matrix_: \n",
      "EnergyMethodOptions::show: nmer_svm_list_defined_: 0\n",
      "EnergyMethodOptions::show: nmer_svm_list_: \n",
      "EnergyMethodOptions::show: nmer_svm_defined_: 0\n",
      "EnergyMethodOptions::show: nmer_svm_: \n",
      "EnergyMethodOptions::show: nmer_svm_rank_list_defined_: 0\n",
      "EnergyMethodOptions::show: nmer_svm_rank_list_: \n",
      "EnergyMethodOptions::show: nmer_svm_rank_defined_: 0\n",
      "EnergyMethodOptions::show: nmer_svm_rank_: \n",
      "EnergyMethodOptions::show: voids_penalty_energy_containing_cones_cutoff_:6\n",
      "EnergyMethodOptions::show: voids_penalty_energy_cone_distance_cutoff_: 8\n",
      "EnergyMethodOptions::show: voids_penalty_energy_cone_dotproduct_cutoff_: 0.1\n",
      "EnergyMethodOptions::show: voids_penalty_energy_voxel_grid_padding_: 1\n",
      "EnergyMethodOptions::show: voids_penalty_energy_voxel_size_: 0.5\n",
      "EnergyMethodOptions::show: voids_penalty_energy_disabled_except_during_packing_: TRUE\n",
      "EnergyMethodOptions::show: hbnet_bonus_ramping_function_: \"quadratic\"\n",
      "EnergyMethodOptions::show: hbnet_max_network_size_: 0\n",
      "EnergyMethodOptions::show: approximate_buried_unsat_penalty_hbond_energy_threshold_: -0.25\n",
      "EnergyMethodOptions::show: approximate_buried_unsat_penalty_burial_atomic_depth_: 4.5\n",
      "EnergyMethodOptions::show: approximate_buried_unsat_penalty_burial_probe_radius_: 2.3\n",
      "EnergyMethodOptions::show: approximate_buried_unsat_penalty_burial_resolution_: 0.5\n",
      "EnergyMethodOptions::show: approximate_buried_unsat_penalty_oversat_penalty_: 1\n",
      "EnergyMethodOptions::show: approximate_buried_unsat_penalty_assume_const_backbone_:1\n",
      "EnergyMethodOptions::show: approximate_buried_unsat_penalty_natural_corrections1_:0\n",
      "EnergyMethodOptions::show: approximate_buried_unsat_penalty_hbond_bonus_cross_chain_:0\n",
      "EnergyMethodOptions::show: approximate_buried_unsat_penalty_hbond_bonus_ser_to_helix_bb_:0\n",
      "EnergyMethodOptions::show: dump_trajectory_prefix_: traj\n",
      "EnergyMethodOptions::show: dump_trajectory_gz_: FALSE\n",
      "EnergyMethodOptions::show: dump_trajectory_stride_: 1\n",
      "EnergyMethodOptions::show: bond_angle_central_atoms_to_score:\n",
      "EnergyMethodOptions::show: bond_angle_residue_type_param_set: none\n",
      "HBondOptions::show: hb_max_energy: 0\n",
      "HBondOptions::show: exclude_DNA_DNA: true\n",
      "HBondOptions::show: exclude_intra_res_protein_: false\n",
      "HBondOptions::show: exclude_intra_res_RNA_: false\n",
      "HBondOptions::show: put_intra_into_total_: false\n",
      "HBondOptions::show: exclude_self_hbonds: true\n",
      "HBondOptions::show: use_hb_env_dep: false\n",
      "HBondOptions::show: use_hb_env_dep_DNA: true\n",
      "HBondOptions::show: smooth_hb_env_dep: true\n",
      "HBondOptions::show: bb_donor_acceptor_check: true\n",
      "HBondOptions::show: decompose_bb_hb_into_pair_energies: false\n",
      "HBondOptions::show: params_database_tag_: ref2015_params\n",
      "HBondOptions::show: use_sp2_chi_penalty_: true\n",
      "HBondOptions::show: sp2_BAH180_rise_: 0.75\n",
      "HBondOptions::show: sp2_outer_width_: 0.357\n",
      "HBondOptions::show: measure_sp3acc_BAH_from_hvy_: true\n",
      "HBondOptions::show: fade_energy_: 1\n",
      "HBondOptions::show: exclude_ether_oxygens_: 0\n",
      "HBondOptions::show: Mbhbond: false \n",
      "HbondOptions::show: mphbond: false\n",
      "HBondOptions::show: hbond_energy_shift: 0\n",
      "HBondOptions::show: water_hybrid_sf: false\n",
      "RNA_EnergyMethodOptions::show: syn_G_potential_bonus: 0\n",
      "RNA_EnergyMethodOptions::show: torsion_potential: ps_04282011\n",
      "RNA_EnergyMethodOptions::show: suiteness_bonus: Richardson\n",
      "RNA_EnergyMethodOptions::show: rna_base_pair_xy_filename: scoring/rna/rna_base_pair_xy.dat\n",
      "FreeDOF_Options::show: free_suite_bonus: -1\n",
      "FreeDOF_Options::show: free_2HOprime_bonus: -0.5\n",
      "FreeDOF_Options::show: free_sugar_bonus: -1\n",
      "FreeDOF_Options::show: pack_phosphate_penalty: 0.25\n",
      "FreeDOF_Options::show: free_side_chain_bonus: -0.5\n",
      "\n",
      "\n"
     ]
    }
   ],
   "source": [
    "print(sfxn)\n"
   ]
  },
  {
   "cell_type": "markdown",
   "metadata": {
    "colab_type": "text",
    "id": "xLh234zJ5dL1",
    "nbgrader": {
     "grade": false,
     "grade_id": "cell-5714b7bc994c3fe3",
     "locked": true,
     "schema_version": 1,
     "solution": false
    }
   },
   "source": [
    "Look at the terms in the energy function and their relative weights\n",
    "by reading the top line that starts with 'weights'. We will not go it to much detail on all of them, but based on the weights, what do you think are the most important?"
   ]
  },
  {
   "cell_type": "code",
   "execution_count": 0,
   "metadata": {
    "colab": {},
    "colab_type": "code",
    "id": "969sDe6V5dL1",
    "nbgrader": {
     "grade": true,
     "grade_id": "cell-22ba33466d6eb287",
     "locked": false,
     "points": 0,
     "schema_version": 1,
     "solution": true
    }
   },
   "outputs": [],
   "source": [
    "## Your Response Here\n",
    "\n",
    "# (fa_atr 1) (fa_rep 0.55) (fa_sol 1) (fa_intra_rep 0.005)\n",
    "# (fa_intra_sol_xover4 1) (lk_ball_wtd 1) (fa_elec 1)\n",
    "# (pro_close 1.25) (hbond_sr_bb 1) (hbond_lr_bb 1)\n",
    "# (hbond_bb_sc 1) (hbond_sc 1) (dslf_fa13 1.25) (omega 0.4)\n",
    "# (fa_dun 0.7) (p_aa_pp 0.6) (yhh_planarity 0.625) (ref 1)\n",
    "# (rama_prepro 0.45)"
   ]
  },
  {
   "cell_type": "markdown",
   "metadata": {
    "colab_type": "text",
    "id": "BE-93NVW5dL5"
   },
   "source": [
    "## Custom Energy Functions"
   ]
  },
  {
   "cell_type": "markdown",
   "metadata": {
    "colab_type": "text",
    "id": "n_zKlo7K5dL6",
    "nbgrader": {
     "grade": false,
     "grade_id": "cell-9c06a7c877210a94",
     "locked": true,
     "schema_version": 1,
     "solution": false
    }
   },
   "source": [
    "You can also create a custom energy function that includes select terms. Typically, creating a whole new score function is unneccesary because the current one works well in most cases. However, tweaking the current enrgy function by reassigning weights and adding certain energy terms can be useful.\n",
    "\n",
    "Here, we will make an example energy function with only the [van der Waals](https://en.wikipedia.org/wiki/Van_der_Waals_force) attractive and repulsive terms, both with weights of 1. We need to use the `set_weight()`. Make a new `ScoreFunction` and set the weights accordingly. This is how we set the full-atom attractive (`fa_atr`) and the full-atom repulsive (`fa_rep`) terms.\n"
   ]
  },
  {
   "cell_type": "code",
   "execution_count": 10,
   "metadata": {
    "colab": {},
    "colab_type": "code",
    "id": "WPiVk3hL5dL6",
    "nbgrader": {
     "grade": true,
     "grade_id": "cell-c4c5c8d7de03487d",
     "locked": false,
     "points": 0,
     "schema_version": 1,
     "solution": true
    }
   },
   "outputs": [],
   "source": [
    "# Create a \"simpler\" energy function\n",
    "sfxn2 = ScoreFunction()\n",
    "sfxn2.set_weight(fa_atr, 1.0)\n",
    "sfxn2.set_weight(fa_rep, 1.0)"
   ]
  },
  {
   "cell_type": "markdown",
   "metadata": {
    "colab_type": "text",
    "id": "cdgizPT45dL9",
    "nbgrader": {
     "grade": false,
     "grade_id": "cell-951446e04ce45937",
     "locked": true,
     "schema_version": 1,
     "solution": false
    }
   },
   "source": [
    "Lets compare the score of `ras` using the full-atom `ScoreFunction` versus the `ScoreFunction` we made above using only the attractive and repulsive terms.\n",
    "\n",
    "First, print the total energy of `ras` using `print(sfxn(ras))`\n",
    "Then, print the attractive and repulsive energy only of `ras` using `print(sfxn2(ras))`"
   ]
  },
  {
   "cell_type": "code",
   "execution_count": 11,
   "metadata": {
    "colab": {
     "base_uri": "https://localhost:8080/",
     "height": 51
    },
    "colab_type": "code",
    "id": "_dGMgNt85dL9",
    "nbgrader": {
     "grade": true,
     "grade_id": "cell-7013e0c60ab37e65",
     "locked": false,
     "points": 0,
     "schema_version": 1,
     "solution": true
    },
    "outputId": "6fb6ee1d-d00e-44b5-ab22-234a40ccaa59"
   },
   "outputs": [
    {
     "name": "stdout",
     "output_type": "stream",
     "text": [
      "Total Energy: 1215.729070\n",
      "Simple Energy: 154.591592 \n"
     ]
    }
   ],
   "source": [
    "# Total energy of ras using full atom scoring\n",
    "print(\"Total Energy: %f\" % sfxn(ras))\n",
    "\n",
    "# Simpler, attractive and repulsive energy of ras\n",
    "print(\"Simple Energy: %f \"% sfxn2(ras))\n"
   ]
  },
  {
   "cell_type": "markdown",
   "metadata": {
    "colab_type": "text",
    "id": "yNvITvYlpvZq"
   },
   "source": [
    "# Binding Energy\n",
    "\n",
    "---"
   ]
  },
  {
   "cell_type": "markdown",
   "metadata": {
    "colab_type": "text",
    "id": "fZp7pPtRnGJM"
   },
   "source": [
    "Mocular interactions between proteins and ligand can help us to understand their function. Measure the binding affinity of small molecules can also be used as an important step in drug discovery. Millions of compounds can be virtually posed into proteins and their binding affinities measured. The top ranking (lowest binding energy) molecules can then be passed along the pipeline for biochemical experimentation.\n",
    "\n",
    "Use the following formula for binding energy:\n",
    "$$ E_{binding} = E_{complex} - E_{protein} - E_{ligand }$$"
   ]
  },
  {
   "cell_type": "markdown",
   "metadata": {
    "colab_type": "text",
    "id": "0T8eYSY0qdMX"
   },
   "source": [
    "## Exercise 1: Computing Binding Energy\n",
    "GCP (Phosphoaminophosphonic acid guanylate ester) is a non-hydrolyzable analog of GTP, in which the oxygen atom bridging the beta to the gamma phosphate is replaced by a nitrogen atom.\n",
    "\n",
    "Using the files `6q21_A_ligand.pdb` (represting the RAS and ligand complex) and `6q21_A_gcp.pdb` (representign the ligand) compute the binding energy of GCP."
   ]
  },
  {
   "cell_type": "code",
   "execution_count": 15,
   "metadata": {
    "colab": {
     "base_uri": "https://localhost:8080/",
     "height": 102
    },
    "colab_type": "code",
    "id": "UOXzL-TymCII",
    "outputId": "8ea6fbe9-83b3-4a61-b5bd-becb625f4be0"
   },
   "outputs": [
    {
     "name": "stdout",
     "output_type": "stream",
     "text": [
      "\u001b[0mcore.import_pose.import_pose: {0} \u001b[0mFile 'inputs/6q21_A_ligand.pdb' automatically determined to be of type PDB\n",
      "\u001b[0mcore.import_pose.import_pose: {0} \u001b[0mFile 'inputs/6q21_A_gcp.pdb' automatically determined to be of type PDB\n",
      "Ras: 1215.729070\n",
      "Complex 1239.170999\n",
      "Ligand: 4.703314\n"
     ]
    }
   ],
   "source": [
    "ras_ligand_complex = pyrosetta.pose_from_pdb(\"inputs/6q21_A_ligand.pdb\")\n",
    "ligand = pyrosetta.pose_from_pdb(\"inputs/6q21_A_gcp.pdb\")\n",
    "\n",
    "print(\"Ras: %f\" % sfxn(ras))\n",
    "print(\"Complex %f\" % sfxn(ras_ligand_complex))\n",
    "print(\"Ligand: %f\" % sfxn(ligand))"
   ]
  },
  {
   "cell_type": "code",
   "execution_count": 16,
   "metadata": {
    "colab": {
     "base_uri": "https://localhost:8080/",
     "height": 34
    },
    "colab_type": "code",
    "id": "-wO6ewISnJqN",
    "outputId": "1b7585b2-af14-4daf-9bc1-48c09823bffb"
   },
   "outputs": [
    {
     "name": "stdout",
     "output_type": "stream",
     "text": [
      "Binding Energy: 18.738616\n"
     ]
    }
   ],
   "source": [
    "binding_energy = sfxn(ras_ligand_complex) - sfxn(ras) - sfxn(ligand)\n",
    "print(\"Binding Energy: %f\" % binding_energy)"
   ]
  },
  {
   "cell_type": "markdown",
   "metadata": {
    "colab_type": "text",
    "id": "TRGfvzIQ4rAD"
   },
   "source": [
    "Compare the binding energy to a Ras model with the native GDP ligand in files `4q21_ligand.pdb`, `4q21_complex.pdb`, and `4q21.pdb`. Don't forget to \"clean\" the proteins."
   ]
  },
  {
   "cell_type": "code",
   "execution_count": 0,
   "metadata": {
    "colab": {},
    "colab_type": "code",
    "id": "NiN6RF7Pttck"
   },
   "outputs": [],
   "source": [
    "# Compute the binding energy"
   ]
  },
  {
   "cell_type": "markdown",
   "metadata": {
    "colab_type": "text",
    "id": "EMGNR4LYm_SN"
   },
   "source": [
    "Given the difference between the binding energies between the natural ligand (gdp) and the modified ligand ligand (gcp), comment on the natural phenomenom that is occuring. \n",
    "\n",
    "Do you think think that potential therapeutic molecules need to bind better (lower binding energy) than a protein's native ligands?"
   ]
  },
  {
   "cell_type": "code",
   "execution_count": 0,
   "metadata": {
    "colab": {},
    "colab_type": "code",
    "id": "LZmfLzTN085D"
   },
   "outputs": [],
   "source": [
    "# Your answers here"
   ]
  },
  {
   "cell_type": "markdown",
   "metadata": {
    "colab_type": "text",
    "id": "Yawbiu0G0gOy"
   },
   "source": [
    "## Energy Breakdown"
   ]
  },
  {
   "cell_type": "markdown",
   "metadata": {
    "colab_type": "text",
    "id": "cObHxonh0c9u"
   },
   "source": [
    "Using the full-atom ScoreFunction `sfxn`, break the energy of `ras` down into its individual pieces with the `sfxn.show(ras)` method. "
   ]
  },
  {
   "cell_type": "code",
   "execution_count": 17,
   "metadata": {
    "colab": {
     "base_uri": "https://localhost:8080/",
     "height": 459
    },
    "colab_type": "code",
    "id": "GDZzrElY0jqd",
    "outputId": "a2099a27-ffb4-45a7-ad7d-15ef127ea259"
   },
   "outputs": [
    {
     "name": "stdout",
     "output_type": "stream",
     "text": [
      "\u001b[0mcore.scoring.ScoreFunction: {0} \u001b[0m\n",
      "------------------------------------------------------------\n",
      " Scores                       Weight   Raw Score Wghtd.Score\n",
      "------------------------------------------------------------\n",
      " fa_atr                       1.000   -1039.246   -1039.246\n",
      " fa_rep                       0.550    1193.837     656.611\n",
      " fa_sol                       1.000     682.582     682.582\n",
      " fa_intra_rep                 0.005     700.419       3.502\n",
      " fa_intra_sol_xover4          1.000      46.564      46.564\n",
      " lk_ball_wtd                  1.000     -14.597     -14.597\n",
      " fa_elec                      1.000    -195.387    -195.387\n",
      " pro_close                    1.250      97.210     121.513\n",
      " hbond_sr_bb                  1.000     -41.656     -41.656\n",
      " hbond_lr_bb                  1.000     -28.352     -28.352\n",
      " hbond_bb_sc                  1.000     -13.111     -13.111\n",
      " hbond_sc                     1.000      -7.771      -7.771\n",
      " dslf_fa13                    1.250       0.000       0.000\n",
      " omega                        0.400      41.525      16.610\n",
      " fa_dun                       0.700    1296.642     907.650\n",
      " p_aa_pp                      0.600     -25.496     -15.298\n",
      " yhh_planarity                0.625       0.000       0.000\n",
      " ref                          1.000      47.114      47.114\n",
      " rama_prepro                  0.450     197.781      89.002\n",
      "---------------------------------------------------\n",
      " Total weighted score:                     1215.729\n",
      "1215.729069796814\n"
     ]
    }
   ],
   "source": [
    "# use the sfxn.show() method\n",
    "sfxn.show(ras)\n",
    "print(sfxn.score(ras))"
   ]
  },
  {
   "cell_type": "markdown",
   "metadata": {
    "colab_type": "text",
    "id": "PFQOnQX-0R2P"
   },
   "source": [
    "While all of these energy terms and weights are important it is sometimes useful, computationally, to simplify the problem. Would we see the same relative binding behavior between the native and modified ligands using the simpler scoring function described above? \n",
    "\n"
   ]
  },
  {
   "cell_type": "code",
   "execution_count": 0,
   "metadata": {
    "colab": {},
    "colab_type": "code",
    "id": "DTeX7TnA194E"
   },
   "outputs": [],
   "source": [
    "# Recreate the above energy calculations with the simple scoring function."
   ]
  }
 ],
 "metadata": {
  "celltoolbar": "Create Assignment",
  "colab": {
   "collapsed_sections": [],
   "name": "3-PyRosetta-Scoring Protein Energy.ipynb",
   "provenance": []
  },
  "kernelspec": {
   "display_name": "Python 3",
   "language": "python",
   "name": "python3"
  },
  "language_info": {
   "codemirror_mode": {
    "name": "ipython",
    "version": 3
   },
   "file_extension": ".py",
   "mimetype": "text/x-python",
   "name": "python",
   "nbconvert_exporter": "python",
   "pygments_lexer": "ipython3",
   "version": "3.7.5"
  },
  "toc": {
   "base_numbering": 1,
   "nav_menu": {},
   "number_sections": true,
   "sideBar": true,
   "skip_h1_title": false,
   "title_cell": "Table of Contents",
   "title_sidebar": "Contents",
   "toc_cell": false,
   "toc_position": {
    "height": "503.333px",
    "left": "207px",
    "top": "151.722px",
    "width": "254.167px"
   },
   "toc_section_display": true,
   "toc_window_display": true
  }
 },
 "nbformat": 4,
 "nbformat_minor": 1
}
