{
 "cells": [
  {
   "cell_type": "markdown",
   "metadata": {
    "colab_type": "text",
    "id": "mEqDpUYOcJOf"
   },
   "source": [
    "# PyRosetta Google Drive Setup for Colab"
   ]
  },
  {
   "cell_type": "markdown",
   "metadata": {
    "colab_type": "text",
    "id": "yottLd5VJyr7"
   },
   "source": [
    "Make a new folder called “PyRosetta” in your top level directory on Google Drive. All of you notebooks and files should be placed in here."
   ]
  },
  {
   "cell_type": "markdown",
   "metadata": {
    "colab_type": "text",
    "id": "Ze0p8drwcJOg"
   },
   "source": [
    "Run this notebook to install PyRosetta in Colab. You will only need to do this once. Afterwards, you will be able to initialize and use PyRosetta in any notebook in Colab."
   ]
  },
  {
   "cell_type": "code",
   "execution_count": 0,
   "metadata": {
    "colab": {
     "base_uri": "https://localhost:8080/",
     "height": 122
    },
    "colab_type": "code",
    "id": "7avg_MNH3myr",
    "outputId": "c9294f85-7f6c-4ddf-8431-01c3c18e5002"
   },
   "outputs": [
    {
     "name": "stdout",
     "output_type": "stream",
     "text": [
      "Go to this URL in a browser: https://accounts.google.com/o/oauth2/auth?client_id=947318989803-6bn6qk8qdgf4n4g3pfee6491hc0brc4i.apps.googleusercontent.com&redirect_uri=urn%3aietf%3awg%3aoauth%3a2.0%3aoob&response_type=code&scope=email%20https%3a%2f%2fwww.googleapis.com%2fauth%2fdocs.test%20https%3a%2f%2fwww.googleapis.com%2fauth%2fdrive%20https%3a%2f%2fwww.googleapis.com%2fauth%2fdrive.photos.readonly%20https%3a%2f%2fwww.googleapis.com%2fauth%2fpeopleapi.readonly\n",
      "\n",
      "Enter your authorization code:\n",
      "··········\n",
      "Mounted at /content/google_drive\n"
     ]
    }
   ],
   "source": [
    "# Mounting Google Drive and add it to Python sys path  \n",
    "\n",
    "google_drive_mount_point = '/content/google_drive'\n",
    "\n",
    "import os, sys, time\n",
    "\n",
    "if 'google.colab' in sys.modules:\n",
    "    from google.colab import drive\n",
    "    drive.mount(google_drive_mount_point)\n",
    "\n",
    "google_drive = google_drive_mount_point + '/My Drive'\n",
    "google_drive_prefix = google_drive + '/prefix'\n",
    "\n",
    "if not os.path.isdir(google_drive_prefix):\n",
    "    os.mkdir(google_drive_prefix)\n",
    "\n",
    "pyrosetta_install_prefix_path = '/content/prefix'\n",
    "if os.path.islink(pyrosetta_install_prefix_path):\n",
    "    os.unlink(pyrosetta_install_prefix_path)\n",
    "os.symlink(google_drive_prefix, pyrosetta_install_prefix_path)\n",
    "\n",
    "sys.path.insert(0, pyrosetta_install_prefix_path)"
   ]
  },
  {
   "cell_type": "code",
   "execution_count": 0,
   "metadata": {
    "colab": {},
    "colab_type": "code",
    "id": "FYTdAhCGQBoa"
   },
   "outputs": [],
   "source": [
    "os.environ[\"PYTHONPATH\"] = os.environ[\"PYTHONPATH\"] + ':' + pyrosetta_install_prefix_path"
   ]
  },
  {
   "cell_type": "code",
   "execution_count": 0,
   "metadata": {
    "code_folding": [],
    "colab": {},
    "colab_type": "code",
    "id": "hved7Vzd8FTm"
   },
   "outputs": [],
   "source": [
    "#sys.path.insert(0, google_drive_packages_path)\n",
    "\n",
    "# installing PyRosetta\n",
    "if sys.version_info.major != 3 or sys.version_info.minor != 6:\n",
    "    print('Need Python-3.6 to run!')\n",
    "    sys.exit(1)\n",
    "\n",
    "import_start_time = time.time()\n",
    "\n",
    "# PyRosetta Linux package into your google drive and put it path here\n",
    "pyrosetta_distr_path = google_drive.replace(' ', '\\\\ ') + '/PyRosetta/*'\n",
    "\n",
    "# Download PyRosetta directly from GrayLab web site (but this might take some time!)\n",
    "!mkdir $notebook_path/PyRosetta2\n",
    "!cd $notebook_path/PyRosetta2 && wget -O _PyRosetta_.tar.bz2 --user levinthal --password paradox http://graylab.jhu.edu/download/PyRosetta4/archive/release/PyRosetta4.MinSizeRel.python36.linux//PyRosetta4.MinSizeRel.python36.linux.release-270.tar.bz2\n",
    "pyrosetta_distr_path = notebook_path + '/PyRosetta/_PyRosetta_.tar.bz2'\n",
    "pyrosetta_distr_path = '/PyRosetta/_PyRosetta_.tar.bz2'\n",
    "\n",
    "!mkdir _PyRosetta_\n",
    "!tar xjf $pyrosetta_distr_path -C _PyRosetta_ --strip-components=1\n",
    "!cd _PyRosetta_/setup && python setup.py install --install-lib=$pyrosetta_install_prefix_path\n",
    "!rm -rf _PyRosetta_\n",
    "\n",
    "import_end_time = time.time()\n",
    "\n",
    "print(f'PyRosetta setup took: {import_end_time - import_start_time:.1f}s...')"
   ]
  },
  {
   "cell_type": "code",
   "execution_count": 0,
   "metadata": {
    "colab": {},
    "colab_type": "code",
    "id": "U3XT5Gza5kPj"
   },
   "outputs": [],
   "source": [
    "for e in os.listdir(pyrosetta_install_prefix_path):\n",
    "    sys.path.append(pyrosetta_install_prefix_path + '/' + e)"
   ]
  },
  {
   "cell_type": "code",
   "execution_count": 0,
   "metadata": {
    "colab": {},
    "colab_type": "code",
    "id": "bZr-M0cnaOiE"
   },
   "outputs": [],
   "source": [
    "from pyrosetta import *\n",
    "pyrosetta.init()\n"
   ]
  },
  {
   "cell_type": "markdown",
   "metadata": {
    "colab_type": "text",
    "id": "VDbFJW9pcJO0"
   },
   "source": [
    "#### Install third-party external packages"
   ]
  },
  {
   "cell_type": "code",
   "execution_count": 0,
   "metadata": {
    "colab": {
     "base_uri": "https://localhost:8080/",
     "height": 34
    },
    "colab_type": "code",
    "id": "zpqV0Zq7i-XW",
    "outputId": "14e62b41-260e-488f-916f-cfd50588a33d"
   },
   "outputs": [
    {
     "name": "stdout",
     "output_type": "stream",
     "text": [
      "Mounted at /content/drive\n"
     ]
    }
   ],
   "source": [
    "from google.colab import drive\n",
    "drive.mount('/content/drive')"
   ]
  },
  {
   "cell_type": "markdown",
   "metadata": {
    "colab_type": "text",
    "id": "7-4H0oRrcJO1"
   },
   "source": [
    "Finally, install third-party external packages using _either_ `pip`."
   ]
  },
  {
   "cell_type": "code",
   "execution_count": 0,
   "metadata": {
    "colab": {},
    "colab_type": "code",
    "id": "3bJW9x0JcJO4"
   },
   "outputs": [],
   "source": [
    "!pip install biopython blosc dask dask-jobqueue distributed graphviz jupyter matplotlib numpy pandas py3Dmol scipy seaborn traitlets --user"
   ]
  },
  {
   "cell_type": "markdown",
   "metadata": {
    "colab_type": "text",
    "id": "Sml_M-NeoKsa"
   },
   "source": [
    "# Test It Out\n",
    "\n",
    "---"
   ]
  },
  {
   "cell_type": "code",
   "execution_count": 0,
   "metadata": {
    "colab": {},
    "colab_type": "code",
    "id": "9vr4U77GoPa3"
   },
   "outputs": [],
   "source": [
    "# Notebook setup\n",
    "import sys\n",
    "if 'google.colab' in sys.modules:\n",
    "    !pip install pyrosettacolabsetup\n",
    "    import pyrosettacolabsetup\n",
    "    pyrosettacolabsetup.setup()\n",
    "    print (\"Notebook is set for PyRosetta use in Colab.  Have fun!\")"
   ]
  }
 ],
 "metadata": {
  "colab": {
   "collapsed_sections": [],
   "name": "1-PyRosetta-Google Drive Setup.ipynb",
   "provenance": [],
   "toc_visible": true
  },
  "kernelspec": {
   "display_name": "Python 3",
   "language": "python",
   "name": "python3"
  },
  "language_info": {
   "codemirror_mode": {
    "name": "ipython",
    "version": 3
   },
   "file_extension": ".py",
   "mimetype": "text/x-python",
   "name": "python",
   "nbconvert_exporter": "python",
   "pygments_lexer": "ipython3",
   "version": "3.7.5"
  },
  "toc": {
   "base_numbering": 1,
   "nav_menu": {},
   "number_sections": true,
   "sideBar": true,
   "skip_h1_title": false,
   "title_cell": "Table of Contents",
   "title_sidebar": "Contents",
   "toc_cell": false,
   "toc_position": {},
   "toc_section_display": true,
   "toc_window_display": false
  }
 },
 "nbformat": 4,
 "nbformat_minor": 1
}
