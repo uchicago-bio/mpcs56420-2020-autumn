{
 "cells": [
  {
   "cell_type": "markdown",
   "metadata": {},
   "source": [
    "# Problem 1. Sequence 1 Analysis\n",
    "Use the NCBI BLAST webservice to answer the following questions about this sequence.\n",
    "```\n",
    ">Sequence1\n",
    "AACAATTCATTTTTCCTGCTTTCCTAGAAAATTCTATAAAAGCTTCAAAA\n",
    "TGAATTACTTGGTGATGATTAGTTTGGCACTTCTCTTCGTGACAGGTGTA\n",
    "GAGAGTGTAAAAGACGGTTATATTGTCGACGATGTAAACTGCACATACTT\n",
    "TTGTGGTAGAAATGCATACTGCAACGAGGAATGTACCAAGTTGAAAGGTG\n",
    "AGAGTGGTTATTGCCAATGGGCAAGTCCATATGGAAACGCCTGTTATTGC\n",
    "TATAAATTGCCCGATCATGTACGTACTAAAGGACCAGGAAGATGCCATGG\n",
    "CCGATAAATTATAAGATGGAATGTATCCTAAGTATCAATGTTAAATAAAT\n",
    "ATAATCAAAAAATT\n",
    "```"
   ]
  },
  {
   "cell_type": "markdown",
   "metadata": {},
   "source": [
    "A. What is the length of the query sequence?"
   ]
  },
  {
   "cell_type": "code",
   "execution_count": null,
   "metadata": {},
   "outputs": [],
   "source": []
  },
  {
   "cell_type": "markdown",
   "metadata": {},
   "source": [
    "B. What is the most likely function encoded by this sequence? What approach and tools did you use to make tis prediction?"
   ]
  },
  {
   "cell_type": "code",
   "execution_count": null,
   "metadata": {},
   "outputs": [],
   "source": []
  },
  {
   "cell_type": "markdown",
   "metadata": {},
   "source": [
    "# Problem 2. Sequence 2 Analysis\n",
    "Use the NCBI BLAST webservice to answer the following questions about this sequence.\n",
    "```\n",
    ">Sequence2\n",
    "CTAATAATCCTTGGAATACTCCTATATTTTGTATAAAGAAGAAATCAGGG\n",
    "AAATGGAGAATGCTAATTGATTTTAGAGAACTTAATGCAAAAACAGAAAA\n",
    "AGGAGCAGAAGTCCAATTAGGATTACCTCACCCATCTGGATTACAGAAGA\n",
    "GAAAGAATGTAACAGTTTTAGATATAGGAGATGCTTATTTTACCATCCCT\n",
    "TTAGATCCTGATTATCAGCCCTATACTGCATTTACTTTACCATCTAAGAA\n",
    "TAATCAAAGTCCAGGAAAAAGGTATATTTGGAAATCTCTTCCACAGGGGT\n",
    "GGGTCTTGAGTCCCTTAATATACCAGAGCACTCTAGATAATATTCTACAA\n",
    "CCATTTAGAA\n",
    "```"
   ]
  },
  {
   "cell_type": "markdown",
   "metadata": {},
   "source": [
    "A. What organism is the most likely source of the sequence? "
   ]
  },
  {
   "cell_type": "code",
   "execution_count": null,
   "metadata": {},
   "outputs": [],
   "source": []
  },
  {
   "cell_type": "markdown",
   "metadata": {},
   "source": [
    "B. What is the translation of this sequence into protein? (You can compute this, or find it using BLAST results.)"
   ]
  },
  {
   "cell_type": "code",
   "execution_count": null,
   "metadata": {},
   "outputs": [],
   "source": []
  },
  {
   "cell_type": "markdown",
   "metadata": {},
   "source": [
    "# Problem 3. Sequence 3 Analysis\n",
    "Use the NCBI BLAST webservice to answer the questions about the following sequence.\n",
    "```\n",
    ">Sequence3\n",
    "TCTTGGTGAGGATCCGTTGAGAACAACCCAACCGCCGCCCCATCGCCCTN\n",
    "GTTAGANTNATGGCCGCGTCGGCGCTGCACCAGACCACCAGCTTCCTCNG\n",
    "CACCGCCCCTCGCCGGGATGAGCTCGTCCGCCGCGTCGGCGACTCCGGTG\n",
    "GCCGCATCACCATGCGCCGCACCGTCAAGAGCGCGCCCCAGAGCATCTGG\n",
    "TATGGACCTGACCGTCCCAAGTNCCTGGGCCCGTTCTCGGAGCAGACGCC\n",
    "ATCGTACCTGACCGGAGAGTTCCCGGGAGACTACGGGTGGGACACGGCGG\n",
    "GGCTATCGGCCGACCCGGANACGTTCGCTATGAACAGGGAGCTGGANGTG\n",
    "ATCCACTCNCGGTGGGCGATGCTGGGGGCGCTGGGCTGCGTCTTCCCGGA\n",
    "GATCCTGTCCAANAACGGGG\n",
    "````"
   ]
  },
  {
   "cell_type": "markdown",
   "metadata": {},
   "source": [
    "A. What organism is the source of the sequence? "
   ]
  },
  {
   "cell_type": "code",
   "execution_count": null,
   "metadata": {},
   "outputs": [],
   "source": []
  },
  {
   "cell_type": "markdown",
   "metadata": {},
   "source": [
    "B. What is the common name for this organism? "
   ]
  },
  {
   "cell_type": "code",
   "execution_count": null,
   "metadata": {},
   "outputs": [],
   "source": []
  },
  {
   "cell_type": "markdown",
   "metadata": {},
   "source": [
    "C. What is the percent identity of the best matching sequence in the results? "
   ]
  },
  {
   "cell_type": "code",
   "execution_count": null,
   "metadata": {},
   "outputs": [],
   "source": []
  },
  {
   "cell_type": "markdown",
   "metadata": {},
   "source": [
    "D. What is the range of E-values for the sequences on the first page of BLAST results? How many sequences would be considered significant (using the default parameters)?"
   ]
  },
  {
   "cell_type": "code",
   "execution_count": null,
   "metadata": {},
   "outputs": [],
   "source": []
  },
  {
   "cell_type": "markdown",
   "metadata": {},
   "source": [
    "# Problem 4. Sequence 4 Analysis\n",
    "Use the NCBI BLAST webservice to answer the questions about the following sequence.\n",
    "```\n",
    ">Sequence4\n",
    "TTCCGGTTGATCCTGCCGGACCCGACTGCTACTTGGGTGAGAATAAGCCAT\n",
    "GCAAGTCGAATGGAATACCAAAATATTCCATAGCAAACTGCTCAATAACAC\n",
    "GTGATCAACTTACCCTATGGAAAACAATAACCTCTGGAAACGGAGGATAAT\n",
    "GGTTTATAGTTGAAAAGGCTTGGAAAAGTTTTTCAATAAAAGGGAATAATA\n",
    "AAAATGGTTATTATTTTGCCATAGGATAGGATTGCGGTCGATCATGGCTGT\n",
    "TGGTGAGGTAATGGCTCACCAAACCAATAATCGATAGGGGCCGTGAGAGCG\n",
    "GGAGCCCCGAGATGGGTACTGAGACAGCGACCCAGGCCTTACGAGGTGCAG\n",
    "CAGGCGCGAAAACTCCGCAATACGCGAAAGTGTGACGGGGTTACCCAAGGT\n",
    "GCTTAATTTTTAAGCTGTGGTAAGTGTGTAATGTACCTTACTAGAAAGGAG\n",
    "AGGGCAAGGCTGGTGCCAGCCGCCGCGGTAAAACCAGCTCTTCAAGTGGTC\n",
    "GGGATAATTATTGGGCTTAAAGTGTCCGTAGCTTGTATAATAAGTTCCTGG\n",
    "TAAAATCTAATAGCTTAACTATNAGTATGCTAGGAATACTGTTGTACTAGA\n",
    "GGGCGGGAGAGGTCTGAGGTACTTCAGGGGTAGGGGTGAAATCCTATAATC\n",
    "CTTGAAGGACCACCAGTGGCGAGGGCGTCAGACTGGAACGCGCCTGANAGT\n",
    "GAGGGACGAAAGCCAGGGGAGCGAACCGGATTAGATACCCGGTAGTCCTGG\n",
    "CCGNTAAACGATGCACACTAGGTGTGGTATGGCTATTGAGCCCATATCAGT\n",
    "GCCGAAGGGAAACCCATTAAGCGTGCCGCCTGGGGAAGTACGGTCGCAAGG\n",
    "CTAAAACTAAAAGGAATTGGCGGGGGAGCACCACAAAGGGGTGAAGCCTGC\n",
    "GGTTCAATTGGACTCAACGCCGGGAAAACTTCCCAGGGGAGACAGCAGAAA\n",
    "TGAAAAGTCAGGTTGACGACCTTACTTAACGAGCTGAGAGGAGGGTGCCAT\n",
    "GGCCGTCGCCAGTTCGTGCCGTGAGGTATCCTGTTAAGTCAGGCAACGAAC\n",
    "GAGACCCGTGCTTTTAGTTCCCAGCAAGACGTCACGACTTCGATGGGAACA\n",
    "CTAAAAGGACCGCCATCGATAAGATGGAGGAAGGAGCGGGCCAAGGCAGGT\n",
    "CAGTATGCCCCGAAACCCCTGGGCCACACGCGGGCTGCAATGGTATGAACA\n",
    "ATGGGCTGTAACTCCGAAAGGAGAAACCAATCCCGAAATCATATCTCAGTT\n",
    "GGGATTGTTGGCTGTAACTCGCTGACATGAACGTGGAAT\n",
    "```"
   ]
  },
  {
   "cell_type": "markdown",
   "metadata": {},
   "source": [
    "A. What gene does this sequence encode? "
   ]
  },
  {
   "cell_type": "code",
   "execution_count": null,
   "metadata": {},
   "outputs": [],
   "source": []
  },
  {
   "cell_type": "markdown",
   "metadata": {},
   "source": [
    "B. What is the percent query cover for the first 5 database matches? "
   ]
  },
  {
   "cell_type": "code",
   "execution_count": null,
   "metadata": {},
   "outputs": [],
   "source": []
  },
  {
   "cell_type": "markdown",
   "metadata": {},
   "source": [
    "C. What does “query cover” refer to? "
   ]
  },
  {
   "cell_type": "code",
   "execution_count": null,
   "metadata": {},
   "outputs": [],
   "source": []
  },
  {
   "cell_type": "markdown",
   "metadata": {},
   "source": [
    "#  Problem 5"
   ]
  },
  {
   "cell_type": "markdown",
   "metadata": {},
   "source": [
    "Protein searches are usually more informative than DNA searches. Using the NCBI webservice, conduct a [*blastp*](https://blast.ncbi.nlm.nih.gov/Blast.cgi?PAGE=Proteins) search using RBP4 (NP_006735), restricting the output to Arthropoda (insects). Next, do a [*blastn*](https://blast.ncbi.nlm.nih.gov/Blast.cgi?PROGRAM=blastn&PAGE_TYPE=BlastSearch&BLAST_SPEC=&LINK_LOC=blasttab&LAST_PAGE=blastp) search using the RBP4 nucleotide sequence (NM_006744). _Make sure to select only the nucleotides corresponding to the coding region of the DNA._"
   ]
  },
  {
   "cell_type": "markdown",
   "metadata": {},
   "source": [
    "A. Which search is more informative? Why?"
   ]
  },
  {
   "cell_type": "code",
   "execution_count": null,
   "metadata": {
    "collapsed": true
   },
   "outputs": [],
   "source": []
  },
  {
   "cell_type": "markdown",
   "metadata": {},
   "source": [
    "B. How many databases matches have an E-value less than 1.0 in each search? "
   ]
  },
  {
   "cell_type": "code",
   "execution_count": null,
   "metadata": {
    "collapsed": true
   },
   "outputs": [],
   "source": []
  },
  {
   "cell_type": "markdown",
   "metadata": {},
   "source": [
    "# Problem 6"
   ]
  },
  {
   "cell_type": "markdown",
   "metadata": {},
   "source": [
    "The E-value (E) gives a measure of the number of false results (false positives) you would expect to see if you used a given alignment score threshold."
   ]
  },
  {
   "cell_type": "markdown",
   "metadata": {},
   "source": [
    "How would you expect the E-value E to change if we double the length of our query sequence?"
   ]
  },
  {
   "cell_type": "code",
   "execution_count": null,
   "metadata": {
    "collapsed": true
   },
   "outputs": [],
   "source": []
  },
  {
   "cell_type": "markdown",
   "metadata": {},
   "source": [
    "How would you expect the E-value E to change if we cut the size of our database in half?"
   ]
  },
  {
   "cell_type": "code",
   "execution_count": null,
   "metadata": {
    "collapsed": true
   },
   "outputs": [],
   "source": []
  },
  {
   "cell_type": "markdown",
   "metadata": {},
   "source": [
    "In general, would you expect the E-value E to change if we use a different scoring matrix?"
   ]
  },
  {
   "cell_type": "code",
   "execution_count": null,
   "metadata": {},
   "outputs": [],
   "source": []
  },
  {
   "cell_type": "markdown",
   "metadata": {},
   "source": [
    "# Problem 7"
   ]
  },
  {
   "cell_type": "markdown",
   "metadata": {},
   "source": [
    "Perform a *blastp* search at NCBI using the following query of just 12 amino acids: `PNLHGLFGRKTG`. By default, the parameters are adjusted for short queries. Inspect the *search summary* of the output for this query."
   ]
  },
  {
   "cell_type": "markdown",
   "metadata": {},
   "source": [
    "What is the E-value cutoff? "
   ]
  },
  {
   "cell_type": "code",
   "execution_count": null,
   "metadata": {
    "collapsed": true
   },
   "outputs": [],
   "source": []
  },
  {
   "cell_type": "markdown",
   "metadata": {},
   "source": [
    "What is the word size used? "
   ]
  },
  {
   "cell_type": "code",
   "execution_count": null,
   "metadata": {
    "collapsed": true
   },
   "outputs": [],
   "source": []
  },
  {
   "cell_type": "markdown",
   "metadata": {},
   "source": [
    "What scoring matrix is used? "
   ]
  },
  {
   "cell_type": "code",
   "execution_count": null,
   "metadata": {
    "collapsed": true
   },
   "outputs": [],
   "source": []
  },
  {
   "cell_type": "markdown",
   "metadata": {},
   "source": [
    "How do these settings compare to the default BLAST parameters? How does the change in values effect the outcome of the search?"
   ]
  },
  {
   "cell_type": "code",
   "execution_count": null,
   "metadata": {
    "collapsed": true
   },
   "outputs": [],
   "source": []
  },
  {
   "cell_type": "markdown",
   "metadata": {},
   "source": [
    "# Problem 8"
   ]
  },
  {
   "cell_type": "markdown",
   "metadata": {},
   "source": [
    "![](https://www.nsinsurance.com/wp-content/uploads/sites/9/2019/08/hippo-3647749_1280.jpg)\n",
    "Is a hippopotamus more closely related to a pig or to a whale? \n",
    "\n",
    "To answer this question, first find the protein sequence of hemoglobin from each of those three organisms. Next, perform pairwise sequence alignments and record the percent amino acid identities. Does your answer change if you use conserved amino acids instead?"
   ]
  },
  {
   "cell_type": "code",
   "execution_count": null,
   "metadata": {},
   "outputs": [],
   "source": []
  },
  {
   "cell_type": "markdown",
   "metadata": {},
   "source": [
    "Identify and justify another protein that could be used to establish evolutionary relatedness?  "
   ]
  },
  {
   "cell_type": "code",
   "execution_count": null,
   "metadata": {
    "collapsed": true
   },
   "outputs": [],
   "source": []
  },
  {
   "cell_type": "markdown",
   "metadata": {},
   "source": [
    "Does performing the same analysis with your new protein change the conclusion you drew using hemoglobin?"
   ]
  },
  {
   "cell_type": "code",
   "execution_count": null,
   "metadata": {
    "collapsed": true
   },
   "outputs": [],
   "source": []
  },
  {
   "cell_type": "markdown",
   "metadata": {},
   "source": [
    "# Problem 9"
   ]
  },
  {
   "cell_type": "markdown",
   "metadata": {},
   "source": [
    "What is Delta-Blast at NCBI?  How does it differ from other programs in the BLAST suite?"
   ]
  },
  {
   "cell_type": "code",
   "execution_count": null,
   "metadata": {},
   "outputs": [],
   "source": []
  },
  {
   "cell_type": "markdown",
   "metadata": {},
   "source": [
    "# Problem 10."
   ]
  },
  {
   "cell_type": "markdown",
   "metadata": {},
   "source": [
    "![](https://alchetron.com/cdn/drosophila-yakuba-57ccad52-2155-4906-b2dd-0530e6fa509-resize-750.png)\n",
    "\n",
    "We have a [sequence](yakuba.fa) of DNA from a recently-obtained genomic sequence from _Drosophila yakuba_. This is a non-model organism, but it should be very closely related to the well-studied _Drosophilae melanogaster_. The unknown sequence is an 11,000 base pair (bp) fragment of genomic DNA.\n",
    "\n",
    "\n",
    "Given our BLAST results, how can we develop our own approach to annotation of the protein coding regions of our yakuba sequence? Outline your overall strategy for gene identification below. Including any tools you use, paramters you choose and assumption you made."
   ]
  },
  {
   "cell_type": "code",
   "execution_count": null,
   "metadata": {},
   "outputs": [],
   "source": []
  },
  {
   "cell_type": "markdown",
   "metadata": {},
   "source": [
    "What gene(s) orthologs can be identified in the yakuba sequence? For any identified gene(s), what structural and functional annotation information can be inferred by homology? "
   ]
  },
  {
   "cell_type": "code",
   "execution_count": null,
   "metadata": {},
   "outputs": [],
   "source": []
  },
  {
   "cell_type": "markdown",
   "metadata": {},
   "source": [
    "# Problem 11. Blast Optimization\n",
    "\n",
    "One of the paramters for BLAST, `-num_threads`, allows you to vary the number of threads used by the application. The default value is set to `1`. Using your locally installed version of BLAST, conduct a series of runs to determine the optimal number of threads to run on a single node.  \n",
    "\n",
    "\n",
    "Conduct a BLASTP search against the [pdb](https://ftp.ncbi.nlm.nih.gov/blast/db/FASTA), [swissprot](https://ftp.ncbi.nlm.nih.gov/blast/db/FASTA), and big_swiss databases using a single node configuration. You will need to download the databases as FASTA files and convert them to a BLAST compatible database format.\n",
    "\n",
    "\n",
    "Conduct multiple runs and vary the number of cpus per node to 1, 2, 4, 8, and 16 using the `-num_threads` parameter. Perform this for the following sequences ([sequence1](https://raw.githubusercontent.com/uchicago-bio/mpcs56420-2020-autumn/master/module-4/assets/ndm1.fasta),[sequence2](https://raw.githubusercontent.com/uchicago-bio/mpcs56420-2020-autumn/master/module-4/assets/spike.fasta),[sequence3](https://raw.githubusercontent.com/uchicago-bio/mpcs56420-2020-autumn/master/module-4/assets/protein1.fasta)) and make note of the runtime. The runtime is available in the BLAST output or simply launch the jobs with the UNIX `time` command.\n",
    "\n",
    "Use `matplotlib` to plot the runtime versus the number threads for each sequence, similar to below and answer the following questions.\n",
    "\n",
    "![](https://voorloopnul.com/files/2014/test.png)"
   ]
  },
  {
   "cell_type": "code",
   "execution_count": null,
   "metadata": {},
   "outputs": [],
   "source": [
    "# plot"
   ]
  },
  {
   "cell_type": "markdown",
   "metadata": {},
   "source": [
    "What do the results suggest would be the optimal number of threads to use on a single core to minimize the run time?  "
   ]
  },
  {
   "cell_type": "code",
   "execution_count": null,
   "metadata": {},
   "outputs": [],
   "source": []
  },
  {
   "cell_type": "markdown",
   "metadata": {},
   "source": [
    "Can you suggest or find reasons to explain the observed behavior?"
   ]
  },
  {
   "cell_type": "code",
   "execution_count": null,
   "metadata": {},
   "outputs": [],
   "source": []
  },
  {
   "cell_type": "markdown",
   "metadata": {},
   "source": [
    "What is the size difference between PDB, Swissprot and Big Swiss databases? The NCBI `nr` database is 83G. Do you think using this database would change your results?"
   ]
  },
  {
   "cell_type": "code",
   "execution_count": null,
   "metadata": {},
   "outputs": [],
   "source": []
  },
  {
   "cell_type": "markdown",
   "metadata": {},
   "source": [
    "# Problem 12."
   ]
  },
  {
   "cell_type": "markdown",
   "metadata": {},
   "source": [
    "Fragment the Big Swiss database into 10 equally size database and run each of the sequences against the fragments. Use the optimal number of threads that you found from your experiment above.\n",
    "\n",
    "Sum the individual run times for each sequence and report them."
   ]
  },
  {
   "cell_type": "markdown",
   "metadata": {},
   "source": [
    "| --- | Runtime DB1 | Runtime DB2 | ... | Total Runtime |\n",
    "| --- | --- | --- |--- | --- |\n",
    "| Sequence 1 | 1.1| 1.2 | ... | 10.5 |\n",
    "| Sequence 2 | .1| .2 | ... | 12.5 |\n",
    "| Sequence 3 | 1.3| 1.4 | ... | 9.5 |"
   ]
  },
  {
   "cell_type": "markdown",
   "metadata": {},
   "source": [
    "\n"
   ]
  },
  {
   "cell_type": "markdown",
   "metadata": {},
   "source": [
    "Based on your observations, which strategy would improve the overall runtime of a BLAST searchh against a very large database?"
   ]
  },
  {
   "cell_type": "code",
   "execution_count": null,
   "metadata": {
    "collapsed": true
   },
   "outputs": [],
   "source": []
  }
 ],
 "metadata": {
  "anaconda-cloud": {},
  "kernelspec": {
   "display_name": "Python 3",
   "language": "python",
   "name": "python3"
  },
  "language_info": {
   "codemirror_mode": {
    "name": "ipython",
    "version": 3
   },
   "file_extension": ".py",
   "mimetype": "text/x-python",
   "name": "python",
   "nbconvert_exporter": "python",
   "pygments_lexer": "ipython3",
   "version": "3.7.5"
  }
 },
 "nbformat": 4,
 "nbformat_minor": 2
}
