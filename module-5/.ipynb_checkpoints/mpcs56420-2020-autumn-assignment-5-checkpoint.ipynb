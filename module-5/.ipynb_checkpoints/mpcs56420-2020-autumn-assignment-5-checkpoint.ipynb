{
 "cells": [
  {
   "cell_type": "markdown",
   "metadata": {},
   "source": [
    "# Problem 1. RCC Single Node Blast\n",
    "Using the RCC version of BLAST, conduct a series of runs to determine the optimal number of threads to run on a single node.  Conduct a BLASTP search against the pdb, swissprot, refseq_protein, and nr databases using a single node configuration. \n",
    "\n",
    "Conduct multiple runs and vary the number of cpus per node to 1, 2, 4, 8, and 16.  This can be accomplished by changing `.sbatch` file and updating the Slurm variables. \n",
    "\n",
    "Record the overall run time for each iteration.\n",
    "\n",
    "- The databases we will be using are located on a shared directory for the class located at `/project2/mpcs56420/db`. You will need to alter (or create multiple scripts) to change the database.\n",
    "\n",
    "- Query sequence:\n",
    "``` \n",
    ">YP_009724390.1 surface glycoprotein [Severe acute respiratory syndrome coronavirus 2]\n",
    "MFVFLVLLPLVSSQCVNLTTRTQLPPAYTNSFTRGVYYPDKVFRSSVLHSTQDLFLPFFSNVTWFHAIHV\n",
    "SGTNGTKRFDNPVLPFNDGVYFASTEKSNIIRGWIFGTTLDSKTQSLLIVNNATNVVIKVCEFQFCNDPF\n",
    "LGVYYHKNNKSWMESEFRVYSSANNCTFEYVSQPFLMDLEGKQGNFKNLREFVFKNIDGYFKIYSKHTPI\n",
    "NLVRDLPQGFSALEPLVDLPIGINITRFQTLLALHRSYLTPGDSSSGWTAGAAAYYVGYLQPRTFLLKYN\n",
    "ENGTITDAVDCALDPLSETKCTLKSFTVEKGIYQTSNFRVQPTESIVRFPNITNLCPFGEVFNATRFASV\n",
    "YAWNRKRISNCVADYSVLYNSASFSTFKCYGVSPTKLNDLCFTNVYADSFVIRGDEVRQIAPGQTGKIAD\n",
    "YNYKLPDDFTGCVIAWNSNNLDSKVGGNYNYLYRLFRKSNLKPFERDISTEIYQAGSTPCNGVEGFNCYF\n",
    "PLQSYGFQPTNGVGYQPYRVVVLSFELLHAPATVCGPKKSTNLVKNKCVNFNFNGLTGTGVLTESNKKFL\n",
    "PFQQFGRDIADTTDAVRDPQTLEILDITPCSFGGVSVITPGTNTSNQVAVLYQDVNCTEVPVAIHADQLT\n",
    "PTWRVYSTGSNVFQTRAGCLIGAEHVNNSYECDIPIGAGICASYQTQTNSPRRARSVASQSIIAYTMSLG\n",
    "AENSVAYSNNSIAIPTNFTISVTTEILPVSMTKTSVDCTMYICGDSTECSNLLLQYGSFCTQLNRALTGI\n",
    "AVEQDKNTQEVFAQVKQIYKTPPIKDFGGFNFSQILPDPSKPSKRSFIEDLLFNKVTLADAGFIKQYGDC\n",
    "LGDIAARDLICAQKFNGLTVLPPLLTDEMIAQYTSALLAGTITSGWTFGAGAALQIPFAMQMAYRFNGIG\n",
    "VTQNVLYENQKLIANQFNSAIGKIQDSLSSTASALGKLQDVVNQNAQALNTLVKQLSSNFGAISSVLNDI\n",
    "LSRLDKVEAEVQIDRLITGRLQSLQTYVTQQLIRAAEIRASANLAATKMSECVLGQSKRVDFCGKGYHLM\n",
    "SFPQSAPHGVVFLHVTYVPAQEKNFTTAPAICHDGKAHFPREGVFVSNGTHWFVTQRNFYEPQIITTDNT\n",
    "FVSGNCDVVIGIVNNTVYDPLQPELDSFKEELDKYFKNHTSPDVDLGDISGINASVVNIQKEIDRLNEVA\n",
    "KNLNESLIDLQELGKYEQYIKWPWYIWLGFIAGLIAIVMVTIMLCCMTSCCSCLKGCCSCGSCCKFDEDD\n",
    "SEPVLKGVKLHYT\n",
    "```\n",
    "\n",
    "What do the results suggest would be the optimal number of threads to use on a single core to minimize the run time? Did this differ from what you discovered when running locally on your own machine? "
   ]
  },
  {
   "cell_type": "code",
   "execution_count": null,
   "metadata": {},
   "outputs": [],
   "source": []
  },
  {
   "cell_type": "markdown",
   "metadata": {},
   "source": [
    "# Problem 2. SLURM Array Job\n",
    "One of the simplest ways to parrallelize a computing task is to break it in to smaller parts.  Write a SLURM submission script that submits the above query against the fragmented *nr* database.  The fragmented *nr* database is located in the `db` diretory in the format: `/project2/mpcs56420/db/refseq_protein.[00-21]`.  \n",
    "\n",
    "You should create a single script that utilizes the SLURM *array job* functionality.  For this example, use 1 task per node.  Show your script below.  \n",
    "\n",
    "What is the runtime for the entire job?\n",
    "\n",
    "\n",
    "What choice did you make for setting the number of tasks per node? Did you use the default of 1 task per node or a different value? Does it make a difference?"
   ]
  },
  {
   "cell_type": "code",
   "execution_count": null,
   "metadata": {},
   "outputs": [],
   "source": []
  },
  {
   "cell_type": "markdown",
   "metadata": {},
   "source": [
    "# Problem 3. \n",
    "Now that you are familiar with using SLURM on RCC, it's time to update your sequence alignment code to run on the distributed computing resources. \n",
    "\n",
    "Update your code for local and global sequence alignment to search against a database of protein sequences. Your program should now take the option inputing a database in fasta format. In this mode, read in the database file then perform your sequence alignment against each member of the database. Save the score for each alignment. _You do not have to generate the Z scores_.\n",
    "\n",
    "In addition, update your code to use either a PAM250 or BLOSUM62 scoring matrix instead of the simple match/mismatch score. You may continue to use a linear gap penalty.\n",
    "\n",
    "Your code should take input from command line to specify the following parameters:\n",
    "\n",
    "- database file (in FASTA format)\n",
    "- gap penalty (default = -2)\n",
    "- scoring matrix (options should be PAM250 or BLOSUM62)\n",
    "- output file name\n",
    "\n",
    "The input should be similiar to the following:\n",
    "```\n",
    "align -query=filename -database=filename -gap_penalty=-2 -scoring_matrix=pam250 -out output.txt\n",
    "```\n",
    "The output should be similiar to the following format:\n",
    "```\n",
    "Query Sequence: \n",
    ">query\n",
    "\n",
    "Database: database name: \n",
    "\n",
    "Runtime: ####\n",
    "\n",
    "> score | sequence header 1 \n",
    "> score | sequence header 2\n",
    "```\n",
    "\n",
    "Develop a SLURM script to run your program on a single node against the PDB database.\n",
    "\n"
   ]
  },
  {
   "cell_type": "code",
   "execution_count": null,
   "metadata": {},
   "outputs": [],
   "source": [
    " "
   ]
  },
  {
   "cell_type": "markdown",
   "metadata": {},
   "source": [
    "## Problem 4. Visualizing Proteins \n",
    "\n",
    "The goal of this question is to familiarize yourself with protein structures and to visualize 3D models of proteins using PyMOL.\n",
    "\n",
    "* Download and install PyMOL (https://www.pymol.org/) on your computer. You can download the installer or use Anaconda: `conda install -c schrodinger pymol`. You will not need a license to run it.\n",
    "* Consult the PyMOL wiki (https://pymolwiki.org) for answers to all your questions."
   ]
  },
  {
   "cell_type": "markdown",
   "metadata": {},
   "source": [
    "Download a protein from the PDB within Pymol interactive console using the following command and answer the following questions:\n",
    "```\n",
    "PyMOL>fetch 1mbn\n",
    "```\n",
    "- What is this protein? \n",
    "- What organism does it come from? \n",
    "- Provide the URL to the protein from the PDB website?\n",
    "- Take a screenshot and include it below."
   ]
  },
  {
   "cell_type": "code",
   "execution_count": null,
   "metadata": {},
   "outputs": [],
   "source": []
  },
  {
   "cell_type": "markdown",
   "metadata": {},
   "source": [
    "When you load a structure, the default visualization in PyMOL is a `cartoon` represenation. You can highlight the secondary strucure elements by coloring by secondary structure elements by selecting `C -> by ss -> Helix Sheet Loop`. Answer the following questions:\n",
    "\n",
    "- How many alpha-helices does the protein have? \n",
    "- How many beta sheets does it have?"
   ]
  },
  {
   "cell_type": "code",
   "execution_count": null,
   "metadata": {},
   "outputs": [],
   "source": []
  },
  {
   "cell_type": "markdown",
   "metadata": {},
   "source": [
    "While this visualization makes for great images for magazine covers, it does not provide the detail we may need to analyze it. In particular, the `licorice sticks` view allows us to see an all-atom reprentation that will help us view the side chains. Change the view in the GUI by selecting `H -> everything` and then `S -> sticks`."
   ]
  },
  {
   "cell_type": "markdown",
   "metadata": {},
   "source": [
    "If you prefer, you can also control the depiction from the command line.\n",
    "```\n",
    "PyMOL> hide everything, 1mbn\n",
    "PyMOL> show sticks, 1mbn\n",
    "```\n",
    "\n",
    "To prepare high-quality images from PyMol, the command `ray` will use a ray-tracing algorithm to compute the lighting on the molecule. The following commands will set the background color to white and set the image size to 800 × 800 pixels \n",
    "\n",
    "\n",
    "```\n",
    "PyMOL> bg white\n",
    "PyMOL> ray 800,800\n",
    "\n",
    "```\n",
    "\n",
    "\n",
    "Take a screenshot and include it below."
   ]
  },
  {
   "cell_type": "code",
   "execution_count": null,
   "metadata": {},
   "outputs": [],
   "source": [
    "Insert image here."
   ]
  },
  {
   "cell_type": "markdown",
   "metadata": {},
   "source": [
    "## Problem 5. Comparing Proteins\n",
    "\n",
    "Download a different protein from the PDB using the following commands.\n",
    "```\n",
    "PyMOL> fetch 1ase\n",
    "PyMOL> hide everything \n",
    "PyMOL> show cartoon\n",
    "```\n",
    "\n",
    "Answer the following questions.\n",
    "\n",
    "- What is this protein?\n",
    "- How many alpha-helices does the protein have?\n",
    "- How many beta sheets does it have?\n",
    "- What are the ligands (small molecules not part of the protein) that is bound to it?"
   ]
  },
  {
   "cell_type": "code",
   "execution_count": null,
   "metadata": {},
   "outputs": [],
   "source": []
  },
  {
   "attachments": {
    "image.png": {
     "image/png": "[encoded data removed]"
    }
   },
   "cell_type": "markdown",
   "metadata": {},
   "source": [
    "This protein was part of a functional study that included mutating residues across multiple protein models. Doing this allowed the researchers to identify precisely the amino acids that were functionally active. \n",
    "\n",
    "Load another version of the protein:\n",
    "\n",
    "```\n",
    "PyMOL> delete all\n",
    "PyMOL> fetch 1ase\n",
    "PyMOL> fetch 1asf\n",
    "```\n",
    "\n",
    "Now, superimpose the two structures:\n",
    "\n",
    "```\n",
    "PyMOL align 1fse, 1asf \n",
    "```\n",
    "\n",
    "The structural match between the two molecules is measured by the root-mean-squared (RMS) distance of the aligned atoms:\n",
    "![image.png](attachment:image.png)\n",
    "where `xi` and `yi` are the vector coordinates (displacement vectors) of the `n` atoms in the two structures. The `align` command automatically generates a sequence alignment to pick the right atoms to compare and then solves for and executes the coordinate transformation that yields the minimal RMS deviation between the structures.\n",
    "\n",
    "Answer the following questions:\n",
    "* What is the RMSD error calculated for this structural alignment (include units)? Over how many atoms?\n",
    "* At what position was the mutation introduce?\n",
    "* What was the mutation that was made to the protein?"
   ]
  },
  {
   "cell_type": "code",
   "execution_count": null,
   "metadata": {},
   "outputs": [],
   "source": []
  },
  {
   "cell_type": "markdown",
   "metadata": {},
   "source": [
    "# Problem 6. Structural Analysis \n",
    "Download a protein from the PDB within Pymol interactive console using the following command and answer the following questions:\n",
    "```\n",
    "PyMOL> fetch 1yy8\n",
    "```\n",
    "\n",
    "The structure you have downloaded is cetuximab, a therapeutic antibody in development for cancer treatment. Antibodies are composed of two heavy chains and two light chains; the particular construct of its upper part is known as a Fab fragment and contains one full light chain (chain A) and the N-terminal half of one heavy chain (chain B). At one end of the Fab fragment are six loops known as the “complementarity determining regions” (CDR), which bind a particular antigen. \n",
    "\n",
    "For the following problems, we will examine the N-terminal domain of chain A (the light chain). To make this easier, type the following command:\n",
    "\n",
    "````\n",
    "PyMOL> select L, chain A and resi 1-107\n",
    "```\n",
    "\n",
    "From the right panel controls, hide everything but for selection L and click `Color→Spectrum→Rainbow`.\n",
    "\n",
    "Answer the following questions:\n",
    "* Looking down the direction of the first strand, which way does it twist?\n",
    "* Do all strands twist the same direction?"
   ]
  },
  {
   "cell_type": "code",
   "execution_count": null,
   "metadata": {},
   "outputs": [],
   "source": []
  },
  {
   "cell_type": "markdown",
   "metadata": {},
   "source": [
    "Next, let us analyze a couple strands in the N-terminal domain. Zoom in on strands 3 and 8, (which should be adjacent and colored cyan and marigold, respectively.) What are the residue number ranges for these two strands? \n",
    "\n",
    "_Hint: Click on the strand ends and look in the console window for the residue numbers._"
   ]
  },
  {
   "cell_type": "markdown",
   "metadata": {},
   "source": [
    "* Strand 3: ____–____ \n",
    "* Strand 8: ____–____"
   ]
  },
  {
   "cell_type": "markdown",
   "metadata": {},
   "source": [
    "Create a new object for these two strands with `select` and hide the rest of the molecule. Display the atoms of the amino acid and color them by their element (Show→Sticks and Color→ByElement). \n",
    "\n",
    "Answer the following questions:\n",
    "* What color are oxygens? _______ \n",
    "* What color are nitrogens? _______ \n",
    "* By looking at the side chains, identify the amino-acid sequence (using 1-letter abbreviations) of these two strands: strand 3: _______________ strand 8: _______________ \n",
    "* What is the pattern in these sequences, and why does it occur?"
   ]
  },
  {
   "cell_type": "markdown",
   "metadata": {},
   "source": []
  },
  {
   "cell_type": "markdown",
   "metadata": {},
   "source": [
    "# 6. PyRosetta \n",
    "PyRosetta is a powerful molecular modeling toolkit that we will be using later on in the course. Visualization is a key component to interpreting and analyzing molecular models so they provide a very detailed tutorial as part of their instruction manual. \n",
    "\n",
    "Complete the following PyMOL Tutorial from the PyRosetta group: https://graylab.jhu.edu/pyrosetta/downloads/documentation/pyrosetta4_online_format/PyRosetta4_Workshop1_PyMOL.pdf \n",
    "\n",
    "There are 8 questions in the tutorial, please answer them below:"
   ]
  },
  {
   "cell_type": "code",
   "execution_count": null,
   "metadata": {},
   "outputs": [],
   "source": []
  },
  {
   "cell_type": "code",
   "execution_count": null,
   "metadata": {},
   "outputs": [],
   "source": []
  },
  {
   "cell_type": "markdown",
   "metadata": {},
   "source": [
    "# 1. "
   ]
  },
  {
   "cell_type": "markdown",
   "metadata": {},
   "source": [
    "Update your sequence alignment code to run as an array job in Slurm. You program should partition the database based on the number of nodes you are using. Then run each of the databases against your query. When all the jobs are completed, coallate the results into a single file.\n",
    "\n",
    "You should use a separate helper script to take care of the partitioning and submitting."
   ]
  },
  {
   "cell_type": "code",
   "execution_count": null,
   "metadata": {},
   "outputs": [],
   "source": []
  },
  {
   "cell_type": "markdown",
   "metadata": {},
   "source": [
    "# 2."
   ]
  },
  {
   "cell_type": "markdown",
   "metadata": {},
   "source": [
    "We have seen firsthand how shared computing resources have both their good and bad points. Fortunately, everyone can now have their own private computing clusters (as long as you're willing to pay for it).\n",
    "\n",
    "Follow this codelab frrom Google Clould Platform to deploy your own HPC Cluster with Slurm: https://codelabs.developers.google.com/codelabs/hpc-slurm-on-gcp/#0\n",
    "\n",
    "Once you have run the sample, get your sequence alignment code to run on it. Provide the sbatch script used to conduct a database search using 4 nodes."
   ]
  },
  {
   "cell_type": "code",
   "execution_count": null,
   "metadata": {},
   "outputs": [],
   "source": []
  },
  {
   "cell_type": "markdown",
   "metadata": {},
   "source": [
    "# 3. Gene Study Lab Notebook"
   ]
  },
  {
   "cell_type": "markdown",
   "metadata": {},
   "source": [
    "Update your lab notebook document to add information about the protein structure and funcion. Please add any links when possible.\n",
    "\n",
    "* Protein Databank Identification\n",
    "* SCOP/CATH identification numbers\n",
    "* Active sites/functional residue identfication\n",
    "* Funcional classification\n",
    "* Images of your protein structure\n",
    " - Full view\n",
    " - Zoom in of active site\n",
    " - Functional residue in stick; protein in cartoon\n",
    " \n",
    " **For your PyMOL Images, keep careful notes on the commands you use so you can easily recreated your images.**\n",
    " \n",
    " \n",
    "Link to your Google document:"
   ]
  },
  {
   "cell_type": "markdown",
   "metadata": {},
   "source": [
    "# 7."
   ]
  },
  {
   "cell_type": "markdown",
   "metadata": {},
   "source": [
    "One of the most common tasks for performing structure analaysis is to performing structure alignments to identify the similarity between protein. You will write a program to perform both global and local structure alignments.  \n",
    "\n",
    "There are many approaches to performing structure alignements, but you will consult [this approach to structure alignment and RMSD](http://boscoh.com/protein/rmsd-root-mean-square-deviation.html) for the technical details on performing the alignments.\n",
    "\n",
    "Despite the complexitity of the underlying approach, you will find it boils down to a couple of matrix command in `numpy`.  As is often the case in bioinformatics, you will be building on what others have contributed to the field.  Understanding other people's code is an important part of this. There are many complex bioinformatics packages in the wild, but often they require a substantial amount of tinkering to work properly.\n",
    "\n",
    "You can (and should) use and modify the [code from the article](https://github.com/boscoh/pdbremix/blob/master/pdbremix/rmsd.py) to help parse PDB files and perform the alignments.  We are only interested in the core PDB parsing and RMSD calculations in this code.\n",
    "\n",
    "For each question below, you only need to consider the alpha carbon coordinates to represent the center of mass of the amino acid.  That is, use only one atom to represent each amino acid. \n",
    "\n",
    "Your program should take input as follows:\n",
    "```\n",
    "align.py -reference file1.pdb -mobile file2.pdb [-local window] -out outfile.pdb\n",
    "```\n",
    "\n",
    "Each solution should print the following to standard output:\n",
    "\n",
    "* RMSD calculation of the alignment\n",
    "* The rotation matrix that gives the best RMSD\n",
    "* A list of aligned residues in the following format (`A1->B1`,`A2->B2`, etc.)\n",
    "\n",
    "The `outfile.pdb` should be a new file (in PDB format) of the aligned structure.  Note that in an alignment, one structure is kept as reference and one is mobile.  The file should represent the mobile structure.  _You should apply the rotation matrix to the entire PDB, not just the alpha carbon atoms._"
   ]
  },
  {
   "cell_type": "markdown",
   "metadata": {},
   "source": [
    "# 6. "
   ]
  },
  {
   "cell_type": "markdown",
   "metadata": {},
   "source": [
    "Find the global RMSD betwen the follwoing myoglobin structures: 1mbn, 1np4, 3qm9, 4nos. Include the output from your program below."
   ]
  },
  {
   "cell_type": "code",
   "execution_count": null,
   "metadata": {},
   "outputs": [],
   "source": []
  },
  {
   "cell_type": "markdown",
   "metadata": {},
   "source": [
    "# 7. "
   ]
  },
  {
   "cell_type": "markdown",
   "metadata": {},
   "source": [
    "Find the best local RMSD alignment between the follwoing myoglobin structures (1mbn, 1np4, 3qm9, 4nos) by comparing segments of length 10. You should apply the rotation matrix to the entire protein."
   ]
  },
  {
   "cell_type": "code",
   "execution_count": null,
   "metadata": {},
   "outputs": [],
   "source": []
  },
  {
   "cell_type": "markdown",
   "metadata": {},
   "source": [
    "# 8. "
   ]
  },
  {
   "cell_type": "markdown",
   "metadata": {},
   "source": [
    "Find the best structural alignment between residues in the heme binding pockets. Use both global and local approaches to find the best alignment.\n",
    "\n",
    "Use the [HEM binding pocket from 1mbn](https://github.com/uchicago-bio/mpcs56420-2020-spring/blob/master/assignment-5/1mbn.HEM_A_155.pdb) as the query binding pocket.  Compare the query against each of the following binding pockets. \n",
    "\n",
    "* [HEM binding pocket from 1np4](https://github.com/uchicago-bio/mpcs56420-2020-spring/blob/master/assignment-5/1mbn.HEM_A_155.pdb/1np4.HEM_A_185.pdb)\n",
    "\n",
    "* [HEM binding pocket from 3qm9](https://github.com/uchicago-bio/mpcs56420-2020-spring/blob/master/assignment-5/1mbn.HEM_A_155.pdb/3qm9.HEM_A_201.pdb)\n",
    "\n",
    "* [HEM binding pocket from 4nos](https://github.com/uchicago-bio/mpcs56420-2020-spring/blob/master/assignment-5/1mbn.HEM_A_155.pdb/4nos.HEM_A_510.pdb)\n",
    "\n",
    "How does the similarity between the HEME binding pockets compare to the overall sequence and structural similarity? Report the sequence similarity in addition to the structural similarity."
   ]
  },
  {
   "cell_type": "code",
   "execution_count": null,
   "metadata": {},
   "outputs": [],
   "source": []
  }
 ],
 "metadata": {
  "anaconda-cloud": {},
  "kernelspec": {
   "display_name": "Python 3",
   "language": "python",
   "name": "python3"
  },
  "language_info": {
   "codemirror_mode": {
    "name": "ipython",
    "version": 3
   },
   "file_extension": ".py",
   "mimetype": "text/x-python",
   "name": "python",
   "nbconvert_exporter": "python",
   "pygments_lexer": "ipython3",
   "version": "3.7.5"
  }
 },
 "nbformat": 4,
 "nbformat_minor": 2
}
